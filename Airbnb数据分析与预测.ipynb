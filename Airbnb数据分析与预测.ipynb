{
 "cells": [
  {
   "cell_type": "markdown",
   "metadata": {},
   "source": [
    "# 数据集介绍\n",
    "\n",
    "Airbnb 中文名 爱彼迎  爱彼迎是一家联系旅游人士和家有空房出租的房主的服务型网站，它可以为用户提供多样的住宿信息。 \n",
    "\n",
    "reviews.scv reviews_detailed.csv是评论信息 这里我们只用reviews_detailed 信息更多\n",
    "\n",
    "calendar.csv 时间价格相关的信息\n",
    "\n",
    "listings.csv  listings_detailed.csv 入住的信息"
   ]
  },
  {
   "cell_type": "code",
   "execution_count": 117,
   "metadata": {},
   "outputs": [],
   "source": [
    "import pandas as pd \n",
    "import numpy as np\n",
    "import matplotlib.pyplot as plt\n",
    "import seaborn as sns"
   ]
  },
  {
   "cell_type": "markdown",
   "metadata": {},
   "source": [
    "# calendar数据集分析"
   ]
  },
  {
   "cell_type": "code",
   "execution_count": 118,
   "metadata": {
    "scrolled": false
   },
   "outputs": [
    {
     "data": {
      "text/html": [
       "<div>\n",
       "<style scoped>\n",
       "    .dataframe tbody tr th:only-of-type {\n",
       "        vertical-align: middle;\n",
       "    }\n",
       "\n",
       "    .dataframe tbody tr th {\n",
       "        vertical-align: top;\n",
       "    }\n",
       "\n",
       "    .dataframe thead th {\n",
       "        text-align: right;\n",
       "    }\n",
       "</style>\n",
       "<table border=\"1\" class=\"dataframe\">\n",
       "  <thead>\n",
       "    <tr style=\"text-align: right;\">\n",
       "      <th></th>\n",
       "      <th>listing_id</th>\n",
       "      <th>date</th>\n",
       "      <th>available</th>\n",
       "      <th>price</th>\n",
       "      <th>adjusted_price</th>\n",
       "      <th>minimum_nights</th>\n",
       "      <th>maximum_nights</th>\n",
       "    </tr>\n",
       "  </thead>\n",
       "  <tbody>\n",
       "    <tr>\n",
       "      <th>0</th>\n",
       "      <td>336834</td>\n",
       "      <td>2019-09-19</td>\n",
       "      <td>f</td>\n",
       "      <td>$63.00</td>\n",
       "      <td>$63.00</td>\n",
       "      <td>5</td>\n",
       "      <td>250</td>\n",
       "    </tr>\n",
       "    <tr>\n",
       "      <th>1</th>\n",
       "      <td>6369</td>\n",
       "      <td>2019-09-19</td>\n",
       "      <td>f</td>\n",
       "      <td>$70.00</td>\n",
       "      <td>$70.00</td>\n",
       "      <td>1</td>\n",
       "      <td>365</td>\n",
       "    </tr>\n",
       "    <tr>\n",
       "      <th>2</th>\n",
       "      <td>6369</td>\n",
       "      <td>2019-09-20</td>\n",
       "      <td>f</td>\n",
       "      <td>$75.00</td>\n",
       "      <td>$75.00</td>\n",
       "      <td>1</td>\n",
       "      <td>365</td>\n",
       "    </tr>\n",
       "    <tr>\n",
       "      <th>3</th>\n",
       "      <td>6369</td>\n",
       "      <td>2019-09-21</td>\n",
       "      <td>f</td>\n",
       "      <td>$75.00</td>\n",
       "      <td>$75.00</td>\n",
       "      <td>1</td>\n",
       "      <td>365</td>\n",
       "    </tr>\n",
       "    <tr>\n",
       "      <th>4</th>\n",
       "      <td>6369</td>\n",
       "      <td>2019-09-22</td>\n",
       "      <td>t</td>\n",
       "      <td>$70.00</td>\n",
       "      <td>$70.00</td>\n",
       "      <td>1</td>\n",
       "      <td>365</td>\n",
       "    </tr>\n",
       "  </tbody>\n",
       "</table>\n",
       "</div>"
      ],
      "text/plain": [
       "   listing_id        date available   price adjusted_price  minimum_nights  \\\n",
       "0      336834  2019-09-19         f  $63.00         $63.00               5   \n",
       "1        6369  2019-09-19         f  $70.00         $70.00               1   \n",
       "2        6369  2019-09-20         f  $75.00         $75.00               1   \n",
       "3        6369  2019-09-21         f  $75.00         $75.00               1   \n",
       "4        6369  2019-09-22         t  $70.00         $70.00               1   \n",
       "\n",
       "   maximum_nights  \n",
       "0             250  \n",
       "1             365  \n",
       "2             365  \n",
       "3             365  \n",
       "4             365  "
      ]
     },
     "execution_count": 118,
     "metadata": {},
     "output_type": "execute_result"
    }
   ],
   "source": [
    "calendar = pd.read_csv(\"./data/madrid-airbnb-data/calendar.csv\")\n",
    "calendar.head()"
   ]
  },
  {
   "cell_type": "markdown",
   "metadata": {},
   "source": [
    "## 对价格调整——去除特殊字符，使其变成数值型"
   ]
  },
  {
   "cell_type": "code",
   "execution_count": 119,
   "metadata": {},
   "outputs": [],
   "source": [
    "# $符号去掉才能够转化为数字类型。 除了'$'符号实际上还有逗号','  \n",
    "# \"[$,]\",     '$'与','替换为空字符串\"\"\n",
    "# 但是这样不能识别出是正则，只会当成普通字符串，加上regex=True 就会当成正则"
   ]
  },
  {
   "cell_type": "code",
   "execution_count": 120,
   "metadata": {},
   "outputs": [],
   "source": [
    "# r 表示原生py字符串\n",
    "calendar['price'] = calendar['price'].str.replace(r\"[$,]\",\"\",regex=True).astype(np.float32)\n",
    "calendar['adjusted_price'] = calendar['adjusted_price'].str.replace(r\"[$,]\",\"\",regex=True).astype(np.float32) #默认是64"
   ]
  },
  {
   "cell_type": "markdown",
   "metadata": {},
   "source": [
    "## 对日期的调整——转化为日期格式(datetime 格式)"
   ]
  },
  {
   "cell_type": "code",
   "execution_count": 121,
   "metadata": {},
   "outputs": [
    {
     "data": {
      "text/plain": [
       "0   2019-09-19\n",
       "1   2019-09-19\n",
       "2   2019-09-20\n",
       "3   2019-09-21\n",
       "4   2019-09-22\n",
       "Name: date, dtype: datetime64[ns]"
      ]
     },
     "execution_count": 121,
     "metadata": {},
     "output_type": "execute_result"
    }
   ],
   "source": [
    "calendar['date'] = pd.to_datetime(calendar['date']) #直接加载是字符串 现在我们要转化为datetime类型\n",
    "calendar['date'].head()"
   ]
  },
  {
   "cell_type": "code",
   "execution_count": 122,
   "metadata": {},
   "outputs": [
    {
     "data": {
      "text/plain": [
       "0          4\n",
       "1          4\n",
       "2          5\n",
       "3          6\n",
       "4          7\n",
       "          ..\n",
       "7605500    7\n",
       "7605501    1\n",
       "7605502    2\n",
       "7605503    3\n",
       "7605504    4\n",
       "Name: date, Length: 7605505, dtype: int64"
      ]
     },
     "execution_count": 122,
     "metadata": {},
     "output_type": "execute_result"
    }
   ],
   "source": [
    "#calendar['date'].dt.year\n",
    "calendar['date'].dt.weekday+1 # dt表示datetime类型，weekday从0开始，所以要加1"
   ]
  },
  {
   "cell_type": "markdown",
   "metadata": {},
   "source": [
    "## 添加两个属性——星期与月份"
   ]
  },
  {
   "cell_type": "code",
   "execution_count": 123,
   "metadata": {},
   "outputs": [
    {
     "data": {
      "text/plain": [
       "0    9\n",
       "1    9\n",
       "2    9\n",
       "3    9\n",
       "4    9\n",
       "Name: month, dtype: int64"
      ]
     },
     "execution_count": 123,
     "metadata": {},
     "output_type": "execute_result"
    }
   ],
   "source": [
    "calendar['weekday'] = calendar['date'].dt.weekday+1\n",
    "calendar['month'] = calendar['date'].dt.month\n",
    "calendar['month'].head()"
   ]
  },
  {
   "cell_type": "markdown",
   "metadata": {},
   "source": [
    "## 价格与月份有什么样的改变\n",
    "\n",
    "根据月份分组，分完组求平均值"
   ]
  },
  {
   "cell_type": "code",
   "execution_count": 124,
   "metadata": {},
   "outputs": [
    {
     "data": {
      "text/plain": [
       "month\n",
       "1    179.677155\n",
       "2    181.085388\n",
       "3    202.500778\n",
       "4    214.366776\n",
       "5    218.506042\n",
       "Name: price, dtype: float32"
      ]
     },
     "execution_count": 124,
     "metadata": {},
     "output_type": "execute_result"
    }
   ],
   "source": [
    "month_prices = calendar.groupby(\"month\")['price'].mean()\n",
    "month_prices.head()\n",
    "# 索引就是月份，右边是每个月平均价格"
   ]
  },
  {
   "cell_type": "code",
   "execution_count": 125,
   "metadata": {},
   "outputs": [
    {
     "data": {
      "text/plain": [
       "<matplotlib.axes._subplots.AxesSubplot at 0x299e693f0c8>"
      ]
     },
     "execution_count": 125,
     "metadata": {},
     "output_type": "execute_result"
    },
    {
     "data": {
      "image/png": "[encoded data removed]",
      "text/plain": [
       "<Figure size 432x288 with 1 Axes>"
      ]
     },
     "metadata": {
      "needs_background": "light"
     },
     "output_type": "display_data"
    }
   ],
   "source": [
    "sns.barplot(month_prices.index,month_prices.values)\n",
    "#sns.barplot(x=list(range(1,13)),y=month_prices)"
   ]
  },
  {
   "cell_type": "markdown",
   "metadata": {},
   "source": [
    "## 星期几与价格的关系"
   ]
  },
  {
   "cell_type": "code",
   "execution_count": 126,
   "metadata": {},
   "outputs": [
    {
     "data": {
      "text/plain": [
       "<matplotlib.axes._subplots.AxesSubplot at 0x299e83ab248>"
      ]
     },
     "execution_count": 126,
     "metadata": {},
     "output_type": "execute_result"
    },
    {
     "data": {
      "image/png": "[encoded data removed]",
      "text/plain": [
       "<Figure size 432x288 with 1 Axes>"
      ]
     },
     "metadata": {
      "needs_background": "light"
     },
     "output_type": "display_data"
    }
   ],
   "source": [
    "weekday_prices = calendar.groupby('weekday')['price'].mean()\n",
    "sns.barplot(weekday_prices.index,weekday_prices.values)\n",
    "#sns.barplot(x=list(range(1,8)),y=weekday_prices)"
   ]
  },
  {
   "cell_type": "code",
   "execution_count": 127,
   "metadata": {},
   "outputs": [
    {
     "data": {
      "text/plain": [
       "<matplotlib.axes._subplots.AxesSubplot at 0x299e841b988>"
      ]
     },
     "execution_count": 127,
     "metadata": {},
     "output_type": "execute_result"
    },
    {
     "data": {
      "image/png": "[encoded data removed]",
      "text/plain": [
       "<Figure size 432x288 with 1 Axes>"
      ]
     },
     "metadata": {
      "needs_background": "light"
     },
     "output_type": "display_data"
    }
   ],
   "source": [
    "sns.distplot(calendar['price'])"
   ]
  },
  {
   "cell_type": "code",
   "execution_count": 128,
   "metadata": {},
   "outputs": [
    {
     "data": {
      "text/plain": [
       "<matplotlib.axes._subplots.AxesSubplot at 0x299e84f7408>"
      ]
     },
     "execution_count": 128,
     "metadata": {},
     "output_type": "execute_result"
    },
    {
     "data": {
      "image/png": "[encoded data removed]",
      "text/plain": [
       "<Figure size 432x288 with 1 Axes>"
      ]
     },
     "metadata": {
      "needs_background": "light"
     },
     "output_type": "display_data"
    }
   ],
   "source": [
    "sns.distplot(calendar[calendar['price']<300]['price'])"
   ]
  },
  {
   "cell_type": "markdown",
   "metadata": {},
   "source": [
    "# listings数据集分析\n",
    "\n",
    "listing_url' 房子详情页\n",
    "\n",
    "host_id',  房东ID\n",
    "\n",
    "host_url'  房东URL\n",
    "\n",
    "street 街道\n",
    "\n",
    "neighbourhood 社区\n",
    "\n",
    "city 城市\n",
    "\n",
    "room_type 房间类型\n",
    "\n",
    "latitude 经度\n",
    "\n",
    "longitude 纬度\n",
    "\n",
    "price 价格\n",
    "\n",
    "cleaning_fee 小费"
   ]
  },
  {
   "cell_type": "code",
   "execution_count": 129,
   "metadata": {},
   "outputs": [
    {
     "name": "stderr",
     "output_type": "stream",
     "text": [
      "C:\\Users\\auniceo\\Anaconda3\\lib\\site-packages\\IPython\\core\\interactiveshell.py:3063: DtypeWarning: Columns (43,61,62) have mixed types.Specify dtype option on import or set low_memory=False.\n",
      "  interactivity=interactivity, compiler=compiler, result=result)\n"
     ]
    },
    {
     "data": {
      "text/html": [
       "<div>\n",
       "<style scoped>\n",
       "    .dataframe tbody tr th:only-of-type {\n",
       "        vertical-align: middle;\n",
       "    }\n",
       "\n",
       "    .dataframe tbody tr th {\n",
       "        vertical-align: top;\n",
       "    }\n",
       "\n",
       "    .dataframe thead th {\n",
       "        text-align: right;\n",
       "    }\n",
       "</style>\n",
       "<table border=\"1\" class=\"dataframe\">\n",
       "  <thead>\n",
       "    <tr style=\"text-align: right;\">\n",
       "      <th></th>\n",
       "      <th>id</th>\n",
       "      <th>listing_url</th>\n",
       "      <th>scrape_id</th>\n",
       "      <th>last_scraped</th>\n",
       "      <th>name</th>\n",
       "      <th>summary</th>\n",
       "      <th>space</th>\n",
       "      <th>description</th>\n",
       "      <th>experiences_offered</th>\n",
       "      <th>neighborhood_overview</th>\n",
       "      <th>...</th>\n",
       "      <th>instant_bookable</th>\n",
       "      <th>is_business_travel_ready</th>\n",
       "      <th>cancellation_policy</th>\n",
       "      <th>require_guest_profile_picture</th>\n",
       "      <th>require_guest_phone_verification</th>\n",
       "      <th>calculated_host_listings_count</th>\n",
       "      <th>calculated_host_listings_count_entire_homes</th>\n",
       "      <th>calculated_host_listings_count_private_rooms</th>\n",
       "      <th>calculated_host_listings_count_shared_rooms</th>\n",
       "      <th>reviews_per_month</th>\n",
       "    </tr>\n",
       "  </thead>\n",
       "  <tbody>\n",
       "    <tr>\n",
       "      <th>0</th>\n",
       "      <td>6369</td>\n",
       "      <td>https://www.airbnb.com/rooms/6369</td>\n",
       "      <td>20190919050215</td>\n",
       "      <td>2019-09-19</td>\n",
       "      <td>Rooftop terrace room with ensuite bathroom, Airc.</td>\n",
       "      <td>Atico en la calle Principe de Vergara, con bañ...</td>\n",
       "      <td>BETTER THAN A HOTEL.Upscale neighboorhood (Met...</td>\n",
       "      <td>BETTER THAN A HOTEL.Upscale neighboorhood (Met...</td>\n",
       "      <td>none</td>\n",
       "      <td>Nice and definitely  non touristic neighborhoo...</td>\n",
       "      <td>...</td>\n",
       "      <td>f</td>\n",
       "      <td>f</td>\n",
       "      <td>flexible</td>\n",
       "      <td>f</td>\n",
       "      <td>f</td>\n",
       "      <td>1</td>\n",
       "      <td>0</td>\n",
       "      <td>1</td>\n",
       "      <td>0</td>\n",
       "      <td>0.56</td>\n",
       "    </tr>\n",
       "    <tr>\n",
       "      <th>1</th>\n",
       "      <td>21853</td>\n",
       "      <td>https://www.airbnb.com/rooms/21853</td>\n",
       "      <td>20190919050215</td>\n",
       "      <td>2019-09-19</td>\n",
       "      <td>Bright and airy room</td>\n",
       "      <td>We have a quiet and sunny room with a good vie...</td>\n",
       "      <td>I am living in a nice flat near the centre of ...</td>\n",
       "      <td>We have a quiet and sunny room with a good vie...</td>\n",
       "      <td>none</td>\n",
       "      <td>We live in a leafy neighbourhood with plenty o...</td>\n",
       "      <td>...</td>\n",
       "      <td>f</td>\n",
       "      <td>f</td>\n",
       "      <td>strict_14_with_grace_period</td>\n",
       "      <td>f</td>\n",
       "      <td>f</td>\n",
       "      <td>2</td>\n",
       "      <td>0</td>\n",
       "      <td>2</td>\n",
       "      <td>0</td>\n",
       "      <td>0.55</td>\n",
       "    </tr>\n",
       "    <tr>\n",
       "      <th>2</th>\n",
       "      <td>24805</td>\n",
       "      <td>https://www.airbnb.com/rooms/24805</td>\n",
       "      <td>20190919050215</td>\n",
       "      <td>2019-09-19</td>\n",
       "      <td>Gran Via Studio Madrid</td>\n",
       "      <td>Studio located 50 meters from Gran Via, next t...</td>\n",
       "      <td>LOCATION.  Brand new flats near the Atlantic H...</td>\n",
       "      <td>Studio located 50 meters from Gran Via, next t...</td>\n",
       "      <td>none</td>\n",
       "      <td>The area is next to the Gran Via, so people li...</td>\n",
       "      <td>...</td>\n",
       "      <td>f</td>\n",
       "      <td>f</td>\n",
       "      <td>moderate</td>\n",
       "      <td>f</td>\n",
       "      <td>f</td>\n",
       "      <td>1</td>\n",
       "      <td>1</td>\n",
       "      <td>0</td>\n",
       "      <td>0</td>\n",
       "      <td>0.03</td>\n",
       "    </tr>\n",
       "    <tr>\n",
       "      <th>3</th>\n",
       "      <td>24836</td>\n",
       "      <td>https://www.airbnb.com/rooms/24836</td>\n",
       "      <td>20190919050215</td>\n",
       "      <td>2019-09-19</td>\n",
       "      <td>Select the Madrid more \"cool\".</td>\n",
       "      <td>Apartamento céntrico junto a Gran Vía (VT-296)...</td>\n",
       "      <td>Select the Madrid more \"cool\" : 70 m, 2 bedroo...</td>\n",
       "      <td>Select the Madrid more \"cool\" : 70 m, 2 bedroo...</td>\n",
       "      <td>none</td>\n",
       "      <td>Cosmopolita, lleno de locales de moda, restaur...</td>\n",
       "      <td>...</td>\n",
       "      <td>f</td>\n",
       "      <td>f</td>\n",
       "      <td>moderate</td>\n",
       "      <td>f</td>\n",
       "      <td>f</td>\n",
       "      <td>1</td>\n",
       "      <td>1</td>\n",
       "      <td>0</td>\n",
       "      <td>0</td>\n",
       "      <td>0.63</td>\n",
       "    </tr>\n",
       "    <tr>\n",
       "      <th>4</th>\n",
       "      <td>26825</td>\n",
       "      <td>https://www.airbnb.com/rooms/26825</td>\n",
       "      <td>20190919050215</td>\n",
       "      <td>2019-09-19</td>\n",
       "      <td>Single Room whith private Bathroom</td>\n",
       "      <td>Nice and cozy roon for one person with a priva...</td>\n",
       "      <td>Nice and cozy roon for one person with a priva...</td>\n",
       "      <td>Nice and cozy roon for one person with a priva...</td>\n",
       "      <td>none</td>\n",
       "      <td>Es un barrio muy tranquilo, en una zona de Mad...</td>\n",
       "      <td>...</td>\n",
       "      <td>f</td>\n",
       "      <td>f</td>\n",
       "      <td>strict_14_with_grace_period</td>\n",
       "      <td>f</td>\n",
       "      <td>f</td>\n",
       "      <td>1</td>\n",
       "      <td>0</td>\n",
       "      <td>1</td>\n",
       "      <td>0</td>\n",
       "      <td>1.19</td>\n",
       "    </tr>\n",
       "  </tbody>\n",
       "</table>\n",
       "<p>5 rows × 106 columns</p>\n",
       "</div>"
      ],
      "text/plain": [
       "      id                         listing_url       scrape_id last_scraped  \\\n",
       "0   6369   https://www.airbnb.com/rooms/6369  20190919050215   2019-09-19   \n",
       "1  21853  https://www.airbnb.com/rooms/21853  20190919050215   2019-09-19   \n",
       "2  24805  https://www.airbnb.com/rooms/24805  20190919050215   2019-09-19   \n",
       "3  24836  https://www.airbnb.com/rooms/24836  20190919050215   2019-09-19   \n",
       "4  26825  https://www.airbnb.com/rooms/26825  20190919050215   2019-09-19   \n",
       "\n",
       "                                                name  \\\n",
       "0  Rooftop terrace room with ensuite bathroom, Airc.   \n",
       "1                               Bright and airy room   \n",
       "2                             Gran Via Studio Madrid   \n",
       "3                     Select the Madrid more \"cool\".   \n",
       "4                 Single Room whith private Bathroom   \n",
       "\n",
       "                                             summary  \\\n",
       "0  Atico en la calle Principe de Vergara, con bañ...   \n",
       "1  We have a quiet and sunny room with a good vie...   \n",
       "2  Studio located 50 meters from Gran Via, next t...   \n",
       "3  Apartamento céntrico junto a Gran Vía (VT-296)...   \n",
       "4  Nice and cozy roon for one person with a priva...   \n",
       "\n",
       "                                               space  \\\n",
       "0  BETTER THAN A HOTEL.Upscale neighboorhood (Met...   \n",
       "1  I am living in a nice flat near the centre of ...   \n",
       "2  LOCATION.  Brand new flats near the Atlantic H...   \n",
       "3  Select the Madrid more \"cool\" : 70 m, 2 bedroo...   \n",
       "4  Nice and cozy roon for one person with a priva...   \n",
       "\n",
       "                                         description experiences_offered  \\\n",
       "0  BETTER THAN A HOTEL.Upscale neighboorhood (Met...                none   \n",
       "1  We have a quiet and sunny room with a good vie...                none   \n",
       "2  Studio located 50 meters from Gran Via, next t...                none   \n",
       "3  Select the Madrid more \"cool\" : 70 m, 2 bedroo...                none   \n",
       "4  Nice and cozy roon for one person with a priva...                none   \n",
       "\n",
       "                               neighborhood_overview  ... instant_bookable  \\\n",
       "0  Nice and definitely  non touristic neighborhoo...  ...                f   \n",
       "1  We live in a leafy neighbourhood with plenty o...  ...                f   \n",
       "2  The area is next to the Gran Via, so people li...  ...                f   \n",
       "3  Cosmopolita, lleno de locales de moda, restaur...  ...                f   \n",
       "4  Es un barrio muy tranquilo, en una zona de Mad...  ...                f   \n",
       "\n",
       "  is_business_travel_ready          cancellation_policy  \\\n",
       "0                        f                     flexible   \n",
       "1                        f  strict_14_with_grace_period   \n",
       "2                        f                     moderate   \n",
       "3                        f                     moderate   \n",
       "4                        f  strict_14_with_grace_period   \n",
       "\n",
       "  require_guest_profile_picture require_guest_phone_verification  \\\n",
       "0                             f                                f   \n",
       "1                             f                                f   \n",
       "2                             f                                f   \n",
       "3                             f                                f   \n",
       "4                             f                                f   \n",
       "\n",
       "   calculated_host_listings_count  \\\n",
       "0                               1   \n",
       "1                               2   \n",
       "2                               1   \n",
       "3                               1   \n",
       "4                               1   \n",
       "\n",
       "   calculated_host_listings_count_entire_homes  \\\n",
       "0                                            0   \n",
       "1                                            0   \n",
       "2                                            1   \n",
       "3                                            1   \n",
       "4                                            0   \n",
       "\n",
       "  calculated_host_listings_count_private_rooms  \\\n",
       "0                                            1   \n",
       "1                                            2   \n",
       "2                                            0   \n",
       "3                                            0   \n",
       "4                                            1   \n",
       "\n",
       "   calculated_host_listings_count_shared_rooms  reviews_per_month  \n",
       "0                                            0               0.56  \n",
       "1                                            0               0.55  \n",
       "2                                            0               0.03  \n",
       "3                                            0               0.63  \n",
       "4                                            0               1.19  \n",
       "\n",
       "[5 rows x 106 columns]"
      ]
     },
     "execution_count": 129,
     "metadata": {},
     "output_type": "execute_result"
    }
   ],
   "source": [
    "listings_detailed = pd.read_csv(\"./data/madrid-airbnb-data/listings_detailed.csv\")# 106列\n",
    "listings_detailed.head()"
   ]
  },
  {
   "cell_type": "code",
   "execution_count": 130,
   "metadata": {},
   "outputs": [
    {
     "data": {
      "text/plain": [
       "['id',\n",
       " 'listing_url',\n",
       " 'scrape_id',\n",
       " 'last_scraped',\n",
       " 'name',\n",
       " 'summary',\n",
       " 'space',\n",
       " 'description',\n",
       " 'experiences_offered',\n",
       " 'neighborhood_overview',\n",
       " 'notes',\n",
       " 'transit',\n",
       " 'access',\n",
       " 'interaction',\n",
       " 'house_rules',\n",
       " 'thumbnail_url',\n",
       " 'medium_url',\n",
       " 'picture_url',\n",
       " 'xl_picture_url',\n",
       " 'host_id',\n",
       " 'host_url',\n",
       " 'host_name',\n",
       " 'host_since',\n",
       " 'host_location',\n",
       " 'host_about',\n",
       " 'host_response_time',\n",
       " 'host_response_rate',\n",
       " 'host_acceptance_rate',\n",
       " 'host_is_superhost',\n",
       " 'host_thumbnail_url',\n",
       " 'host_picture_url',\n",
       " 'host_neighbourhood',\n",
       " 'host_listings_count',\n",
       " 'host_total_listings_count',\n",
       " 'host_verifications',\n",
       " 'host_has_profile_pic',\n",
       " 'host_identity_verified',\n",
       " 'street',\n",
       " 'neighbourhood',\n",
       " 'neighbourhood_cleansed',\n",
       " 'neighbourhood_group_cleansed',\n",
       " 'city',\n",
       " 'state',\n",
       " 'zipcode',\n",
       " 'market',\n",
       " 'smart_location',\n",
       " 'country_code',\n",
       " 'country',\n",
       " 'latitude',\n",
       " 'longitude',\n",
       " 'is_location_exact',\n",
       " 'property_type',\n",
       " 'room_type',\n",
       " 'accommodates',\n",
       " 'bathrooms',\n",
       " 'bedrooms',\n",
       " 'beds',\n",
       " 'bed_type',\n",
       " 'amenities',\n",
       " 'square_feet',\n",
       " 'price',\n",
       " 'weekly_price',\n",
       " 'monthly_price',\n",
       " 'security_deposit',\n",
       " 'cleaning_fee',\n",
       " 'guests_included',\n",
       " 'extra_people',\n",
       " 'minimum_nights',\n",
       " 'maximum_nights',\n",
       " 'minimum_minimum_nights',\n",
       " 'maximum_minimum_nights',\n",
       " 'minimum_maximum_nights',\n",
       " 'maximum_maximum_nights',\n",
       " 'minimum_nights_avg_ntm',\n",
       " 'maximum_nights_avg_ntm',\n",
       " 'calendar_updated',\n",
       " 'has_availability',\n",
       " 'availability_30',\n",
       " 'availability_60',\n",
       " 'availability_90',\n",
       " 'availability_365',\n",
       " 'calendar_last_scraped',\n",
       " 'number_of_reviews',\n",
       " 'number_of_reviews_ltm',\n",
       " 'first_review',\n",
       " 'last_review',\n",
       " 'review_scores_rating',\n",
       " 'review_scores_accuracy',\n",
       " 'review_scores_cleanliness',\n",
       " 'review_scores_checkin',\n",
       " 'review_scores_communication',\n",
       " 'review_scores_location',\n",
       " 'review_scores_value',\n",
       " 'requires_license',\n",
       " 'license',\n",
       " 'jurisdiction_names',\n",
       " 'instant_bookable',\n",
       " 'is_business_travel_ready',\n",
       " 'cancellation_policy',\n",
       " 'require_guest_profile_picture',\n",
       " 'require_guest_phone_verification',\n",
       " 'calculated_host_listings_count',\n",
       " 'calculated_host_listings_count_entire_homes',\n",
       " 'calculated_host_listings_count_private_rooms',\n",
       " 'calculated_host_listings_count_shared_rooms',\n",
       " 'reviews_per_month']"
      ]
     },
     "execution_count": 130,
     "metadata": {},
     "output_type": "execute_result"
    }
   ],
   "source": [
    "listings_detailed.columns.values.tolist() #因为列无法全部显示完，所以转化为列表打印出来"
   ]
  },
  {
   "cell_type": "markdown",
   "metadata": {},
   "source": [
    "## 处理数据"
   ]
  },
  {
   "cell_type": "code",
   "execution_count": 131,
   "metadata": {},
   "outputs": [],
   "source": [
    "listings_detailed['price'] = listings_detailed['price'].str.replace(r\"[$,]\",\"\").astype(np.float32)\n",
    "listings_detailed['cleaning_fee'] = listings_detailed['cleaning_fee'].str.replace(r\"[$,]\",\"\").astype(np.float32).fillna(0) \n",
    "# fillna(0)  小费存在nan的值 用0代替"
   ]
  },
  {
   "cell_type": "code",
   "execution_count": 132,
   "metadata": {
    "scrolled": true
   },
   "outputs": [
    {
     "data": {
      "text/plain": [
       "0     5.0\n",
       "1     0.0\n",
       "2    30.0\n",
       "3     0.0\n",
       "4    15.0\n",
       "Name: cleaning_fee, dtype: float32"
      ]
     },
     "execution_count": 132,
     "metadata": {},
     "output_type": "execute_result"
    }
   ],
   "source": [
    "listings_detailed['cleaning_fee'].head()"
   ]
  },
  {
   "cell_type": "markdown",
   "metadata": {},
   "source": [
    "## 添加新的字段"
   ]
  },
  {
   "cell_type": "markdown",
   "metadata": {},
   "source": [
    "### 入住最低消费 价格加小费*入住的最少天数"
   ]
  },
  {
   "cell_type": "code",
   "execution_count": 133,
   "metadata": {
    "scrolled": true
   },
   "outputs": [
    {
     "data": {
      "text/plain": [
       "0     75.0\n",
       "1     68.0\n",
       "2    550.0\n",
       "3    345.0\n",
       "4     80.0\n",
       "Name: minimum_cost, dtype: float32"
      ]
     },
     "execution_count": 133,
     "metadata": {},
     "output_type": "execute_result"
    }
   ],
   "source": [
    "listings_detailed['minimum_cost'] = (listings_detailed['price']+listings_detailed['cleaning_fee'])*listings_detailed['minimum_nights']\n",
    "listings_detailed['minimum_cost'].head()"
   ]
  },
  {
   "cell_type": "markdown",
   "metadata": {},
   "source": [
    "### 入住每晚最低消费"
   ]
  },
  {
   "cell_type": "code",
   "execution_count": 134,
   "metadata": {
    "scrolled": true
   },
   "outputs": [
    {
     "data": {
      "text/plain": [
       "0     75.0\n",
       "1     17.0\n",
       "2    110.0\n",
       "3    115.0\n",
       "4     40.0\n",
       "Name: minimum_cost_per_night, dtype: float32"
      ]
     },
     "execution_count": 134,
     "metadata": {},
     "output_type": "execute_result"
    }
   ],
   "source": [
    "listings_detailed['minimum_cost_per_night'] = listings_detailed['minimum_cost'] / listings_detailed['minimum_nights']\n",
    "listings_detailed['minimum_cost_per_night'].head()"
   ]
  },
  {
   "cell_type": "markdown",
   "metadata": {},
   "source": [
    "### 设施的数量 \n",
    "\n",
    "amenities 设施信息"
   ]
  },
  {
   "cell_type": "code",
   "execution_count": 135,
   "metadata": {},
   "outputs": [
    {
     "data": {
      "text/plain": [
       "0    {Wifi,\"Air conditioning\",Kitchen,Elevator,Heat...\n",
       "1    {TV,Internet,Wifi,\"Air conditioning\",Kitchen,\"...\n",
       "2    {TV,Internet,Wifi,\"Air conditioning\",Kitchen,E...\n",
       "3    {TV,\"Cable TV\",Internet,Wifi,\"Air conditioning...\n",
       "4    {Wifi,\"Wheelchair accessible\",Doorman,Elevator...\n",
       "Name: amenities, dtype: object"
      ]
     },
     "execution_count": 135,
     "metadata": {},
     "output_type": "execute_result"
    }
   ],
   "source": [
    "listings_detailed['amenities'].head()"
   ]
  },
  {
   "cell_type": "code",
   "execution_count": 136,
   "metadata": {},
   "outputs": [
    {
     "data": {
      "text/plain": [
       "0        16\n",
       "1        31\n",
       "2        32\n",
       "3        18\n",
       "4        16\n",
       "         ..\n",
       "20832    11\n",
       "20833    10\n",
       "20834    21\n",
       "20835    11\n",
       "20836    22\n",
       "Name: amenities, Length: 20837, dtype: int64"
      ]
     },
     "execution_count": 136,
     "metadata": {},
     "output_type": "execute_result"
    }
   ],
   "source": [
    "# 把每一项分割开来，算一下一共多少个设施\n",
    "# str[1:-1] 不需要花括号 只需要里面的\n",
    "listings_detailed['amenities'].str[1:-1].str.split(\",\").apply(len)\n",
    "# apply(len)对字段里面的每一项执行 len函数 返回个数"
   ]
  },
  {
   "cell_type": "code",
   "execution_count": 137,
   "metadata": {},
   "outputs": [],
   "source": [
    "listings_detailed['n_amenities'] = listings_detailed['amenities'].str[1:-1].str.split(\",\").apply(len)"
   ]
  },
  {
   "cell_type": "markdown",
   "metadata": {},
   "source": [
    "### 房间最多容纳的人数\n",
    "\n",
    "根据可容纳的人数添加新的列，分别为：单身、成对、家庭、团体 single(1) Couple(2)、Family(5)、Group(20)\n",
    "\n",
    "根据容纳的人数做一个划分\n"
   ]
  },
  {
   "cell_type": "code",
   "execution_count": 138,
   "metadata": {
    "scrolled": true
   },
   "outputs": [
    {
     "data": {
      "text/plain": [
       "0    2\n",
       "1    1\n",
       "2    3\n",
       "3    4\n",
       "4    1\n",
       "Name: accommodates, dtype: int64"
      ]
     },
     "execution_count": 138,
     "metadata": {},
     "output_type": "execute_result"
    }
   ],
   "source": [
    "listings_detailed['accommodates'].head()"
   ]
  },
  {
   "cell_type": "code",
   "execution_count": 139,
   "metadata": {},
   "outputs": [
    {
     "name": "stdout",
     "output_type": "stream",
     "text": [
      "Help on function cut in module pandas.core.reshape.tile:\n",
      "\n",
      "cut(x, bins, right: bool = True, labels=None, retbins: bool = False, precision: int = 3, include_lowest: bool = False, duplicates: str = 'raise')\n",
      "    Bin values into discrete intervals.\n",
      "    \n",
      "    Use `cut` when you need to segment and sort data values into bins. This\n",
      "    function is also useful for going from a continuous variable to a\n",
      "    categorical variable. For example, `cut` could convert ages to groups of\n",
      "    age ranges. Supports binning into an equal number of bins, or a\n",
      "    pre-specified array of bins.\n",
      "    \n",
      "    Parameters\n",
      "    ----------\n",
      "    x : array-like\n",
      "        The input array to be binned. Must be 1-dimensional.\n",
      "    bins : int, sequence of scalars, or IntervalIndex\n",
      "        The criteria to bin by.\n",
      "    \n",
      "        * int : Defines the number of equal-width bins in the range of `x`. The\n",
      "          range of `x` is extended by .1% on each side to include the minimum\n",
      "          and maximum values of `x`.\n",
      "        * sequence of scalars : Defines the bin edges allowing for non-uniform\n",
      "          width. No extension of the range of `x` is done.\n",
      "        * IntervalIndex : Defines the exact bins to be used. Note that\n",
      "          IntervalIndex for `bins` must be non-overlapping.\n",
      "    \n",
      "    right : bool, default True\n",
      "        Indicates whether `bins` includes the rightmost edge or not. If\n",
      "        ``right == True`` (the default), then the `bins` ``[1, 2, 3, 4]``\n",
      "        indicate (1,2], (2,3], (3,4]. This argument is ignored when\n",
      "        `bins` is an IntervalIndex.\n",
      "    labels : array or False, default None\n",
      "        Specifies the labels for the returned bins. Must be the same length as\n",
      "        the resulting bins. If False, returns only integer indicators of the\n",
      "        bins. This affects the type of the output container (see below).\n",
      "        This argument is ignored when `bins` is an IntervalIndex. If True,\n",
      "        raises an error.\n",
      "    retbins : bool, default False\n",
      "        Whether to return the bins or not. Useful when bins is provided\n",
      "        as a scalar.\n",
      "    precision : int, default 3\n",
      "        The precision at which to store and display the bins labels.\n",
      "    include_lowest : bool, default False\n",
      "        Whether the first interval should be left-inclusive or not.\n",
      "    duplicates : {default 'raise', 'drop'}, optional\n",
      "        If bin edges are not unique, raise ValueError or drop non-uniques.\n",
      "    \n",
      "        .. versionadded:: 0.23.0\n",
      "    \n",
      "    Returns\n",
      "    -------\n",
      "    out : Categorical, Series, or ndarray\n",
      "        An array-like object representing the respective bin for each value\n",
      "        of `x`. The type depends on the value of `labels`.\n",
      "    \n",
      "        * True (default) : returns a Series for Series `x` or a\n",
      "          Categorical for all other inputs. The values stored within\n",
      "          are Interval dtype.\n",
      "    \n",
      "        * sequence of scalars : returns a Series for Series `x` or a\n",
      "          Categorical for all other inputs. The values stored within\n",
      "          are whatever the type in the sequence is.\n",
      "    \n",
      "        * False : returns an ndarray of integers.\n",
      "    \n",
      "    bins : numpy.ndarray or IntervalIndex.\n",
      "        The computed or specified bins. Only returned when `retbins=True`.\n",
      "        For scalar or sequence `bins`, this is an ndarray with the computed\n",
      "        bins. If set `duplicates=drop`, `bins` will drop non-unique bin. For\n",
      "        an IntervalIndex `bins`, this is equal to `bins`.\n",
      "    \n",
      "    See Also\n",
      "    --------\n",
      "    qcut : Discretize variable into equal-sized buckets based on rank\n",
      "        or based on sample quantiles.\n",
      "    Categorical : Array type for storing data that come from a\n",
      "        fixed set of values.\n",
      "    Series : One-dimensional array with axis labels (including time series).\n",
      "    IntervalIndex : Immutable Index implementing an ordered, sliceable set.\n",
      "    \n",
      "    Notes\n",
      "    -----\n",
      "    Any NA values will be NA in the result. Out of bounds values will be NA in\n",
      "    the resulting Series or Categorical object.\n",
      "    \n",
      "    Examples\n",
      "    --------\n",
      "    Discretize into three equal-sized bins.\n",
      "    \n",
      "    >>> pd.cut(np.array([1, 7, 5, 4, 6, 3]), 3)\n",
      "    ... # doctest: +ELLIPSIS\n",
      "    [(0.994, 3.0], (5.0, 7.0], (3.0, 5.0], (3.0, 5.0], (5.0, 7.0], ...\n",
      "    Categories (3, interval[float64]): [(0.994, 3.0] < (3.0, 5.0] ...\n",
      "    \n",
      "    >>> pd.cut(np.array([1, 7, 5, 4, 6, 3]), 3, retbins=True)\n",
      "    ... # doctest: +ELLIPSIS\n",
      "    ([(0.994, 3.0], (5.0, 7.0], (3.0, 5.0], (3.0, 5.0], (5.0, 7.0], ...\n",
      "    Categories (3, interval[float64]): [(0.994, 3.0] < (3.0, 5.0] ...\n",
      "    array([0.994, 3.   , 5.   , 7.   ]))\n",
      "    \n",
      "    Discovers the same bins, but assign them specific labels. Notice that\n",
      "    the returned Categorical's categories are `labels` and is ordered.\n",
      "    \n",
      "    >>> pd.cut(np.array([1, 7, 5, 4, 6, 3]),\n",
      "    ...        3, labels=[\"bad\", \"medium\", \"good\"])\n",
      "    [bad, good, medium, medium, good, bad]\n",
      "    Categories (3, object): [bad < medium < good]\n",
      "    \n",
      "    ``labels=False`` implies you just want the bins back.\n",
      "    \n",
      "    >>> pd.cut([0, 1, 1, 2], bins=4, labels=False)\n",
      "    array([0, 1, 1, 3])\n",
      "    \n",
      "    Passing a Series as an input returns a Series with categorical dtype:\n",
      "    \n",
      "    >>> s = pd.Series(np.array([2, 4, 6, 8, 10]),\n",
      "    ...               index=['a', 'b', 'c', 'd', 'e'])\n",
      "    >>> pd.cut(s, 3)\n",
      "    ... # doctest: +ELLIPSIS\n",
      "    a    (1.992, 4.667]\n",
      "    b    (1.992, 4.667]\n",
      "    c    (4.667, 7.333]\n",
      "    d     (7.333, 10.0]\n",
      "    e     (7.333, 10.0]\n",
      "    dtype: category\n",
      "    Categories (3, interval[float64]): [(1.992, 4.667] < (4.667, ...\n",
      "    \n",
      "    Passing a Series as an input returns a Series with mapping value.\n",
      "    It is used to map numerically to intervals based on bins.\n",
      "    \n",
      "    >>> s = pd.Series(np.array([2, 4, 6, 8, 10]),\n",
      "    ...               index=['a', 'b', 'c', 'd', 'e'])\n",
      "    >>> pd.cut(s, [0, 2, 4, 6, 8, 10], labels=False, retbins=True, right=False)\n",
      "    ... # doctest: +ELLIPSIS\n",
      "    (a    0.0\n",
      "     b    1.0\n",
      "     c    2.0\n",
      "     d    3.0\n",
      "     e    4.0\n",
      "     dtype: float64, array([0, 2, 4, 6, 8]))\n",
      "    \n",
      "    Use `drop` optional when bins is not unique\n",
      "    \n",
      "    >>> pd.cut(s, [0, 2, 4, 6, 10, 10], labels=False, retbins=True,\n",
      "    ...        right=False, duplicates='drop')\n",
      "    ... # doctest: +ELLIPSIS\n",
      "    (a    0.0\n",
      "     b    1.0\n",
      "     c    2.0\n",
      "     d    3.0\n",
      "     e    3.0\n",
      "     dtype: float64, array([0, 2, 4, 6, 8]))\n",
      "    \n",
      "    Passing an IntervalIndex for `bins` results in those categories exactly.\n",
      "    Notice that values not covered by the IntervalIndex are set to NaN. 0\n",
      "    is to the left of the first bin (which is closed on the right), and 1.5\n",
      "    falls between two bins.\n",
      "    \n",
      "    >>> bins = pd.IntervalIndex.from_tuples([(0, 1), (2, 3), (4, 5)])\n",
      "    >>> pd.cut([0, 0.5, 1.5, 2.5, 4.5], bins)\n",
      "    [NaN, (0, 1], NaN, (2, 3], (4, 5]]\n",
      "    Categories (3, interval[int64]): [(0, 1] < (2, 3] < (4, 5]]\n",
      "\n"
     ]
    }
   ],
   "source": [
    "help(pd.cut)\n",
    "# x是值，bins是划分的区间， right 最右边的区间要不要包含 labels 分完组后的别名 include_lowest是否包含最左边的"
   ]
  },
  {
   "cell_type": "code",
   "execution_count": 140,
   "metadata": {},
   "outputs": [
    {
     "data": {
      "text/plain": [
       "0        [2, 3)\n",
       "1        [1, 2)\n",
       "2        [3, 5)\n",
       "3        [3, 5)\n",
       "4        [1, 2)\n",
       "          ...  \n",
       "20832    [3, 5)\n",
       "20833    [2, 3)\n",
       "20834    [3, 5)\n",
       "20835    [2, 3)\n",
       "20836    [2, 3)\n",
       "Name: accommodates, Length: 20837, dtype: category\n",
       "Categories (4, interval[int64]): [[1, 2) < [2, 3) < [3, 5) < [5, 20)]"
      ]
     },
     "execution_count": 140,
     "metadata": {},
     "output_type": "execute_result"
    }
   ],
   "source": [
    "pd.cut(listings_detailed['accommodates'],bins=[1,2,3,5,20],include_lowest=True,right=False)"
   ]
  },
  {
   "cell_type": "code",
   "execution_count": 141,
   "metadata": {
    "scrolled": true
   },
   "outputs": [
    {
     "data": {
      "text/plain": [
       "0        Couple\n",
       "1        Single\n",
       "2        Family\n",
       "3        Family\n",
       "4        Single\n",
       "          ...  \n",
       "20832    Family\n",
       "20833    Couple\n",
       "20834    Family\n",
       "20835    Couple\n",
       "20836    Couple\n",
       "Name: accommodates, Length: 20837, dtype: category\n",
       "Categories (4, object): [Single < Couple < Family < Group]"
      ]
     },
     "execution_count": 141,
     "metadata": {},
     "output_type": "execute_result"
    }
   ],
   "source": [
    "pd.cut(listings_detailed['accommodates'],bins=[1,2,3,5,20],include_lowest=True,right=False,labels=['Single','Couple','Family','Group'])"
   ]
  },
  {
   "cell_type": "code",
   "execution_count": 142,
   "metadata": {},
   "outputs": [],
   "source": [
    "listings_detailed['accommodates_type'] = pd.cut(listings_detailed['accommodates'],bins=[1,2,3,5,20],include_lowest=True,right=False,labels=['Single','Couple','Family','Group'])"
   ]
  },
  {
   "cell_type": "markdown",
   "metadata": {},
   "source": [
    "## 查看一些字段"
   ]
  },
  {
   "cell_type": "markdown",
   "metadata": {},
   "source": [
    "### 查看所处地区(社区)"
   ]
  },
  {
   "cell_type": "code",
   "execution_count": 143,
   "metadata": {
    "scrolled": true
   },
   "outputs": [
    {
     "data": {
      "text/plain": [
       "0     Chamartín\n",
       "1        Latina\n",
       "2        Centro\n",
       "3        Centro\n",
       "4    Arganzuela\n",
       "Name: neighbourhood_group_cleansed, dtype: object"
      ]
     },
     "execution_count": 143,
     "metadata": {},
     "output_type": "execute_result"
    }
   ],
   "source": [
    "listings_detailed['neighbourhood_group_cleansed'].head()"
   ]
  },
  {
   "cell_type": "markdown",
   "metadata": {},
   "source": [
    "### 查看评分"
   ]
  },
  {
   "cell_type": "code",
   "execution_count": 144,
   "metadata": {},
   "outputs": [
    {
     "data": {
      "text/plain": [
       "0     98.0\n",
       "1     92.0\n",
       "2    100.0\n",
       "3     98.0\n",
       "4     94.0\n",
       "Name: review_scores_rating, dtype: float64"
      ]
     },
     "execution_count": 144,
     "metadata": {},
     "output_type": "execute_result"
    }
   ],
   "source": [
    "listings_detailed['review_scores_rating'].head()"
   ]
  },
  {
   "cell_type": "markdown",
   "metadata": {},
   "source": [
    "## 把需要的字段拿到一起来\n",
    "\n",
    "accommodates 设施  n_amenities 设施数量\n"
   ]
  },
  {
   "cell_type": "code",
   "execution_count": 145,
   "metadata": {},
   "outputs": [
    {
     "data": {
      "text/html": [
       "<div>\n",
       "<style scoped>\n",
       "    .dataframe tbody tr th:only-of-type {\n",
       "        vertical-align: middle;\n",
       "    }\n",
       "\n",
       "    .dataframe tbody tr th {\n",
       "        vertical-align: top;\n",
       "    }\n",
       "\n",
       "    .dataframe thead th {\n",
       "        text-align: right;\n",
       "    }\n",
       "</style>\n",
       "<table border=\"1\" class=\"dataframe\">\n",
       "  <thead>\n",
       "    <tr style=\"text-align: right;\">\n",
       "      <th></th>\n",
       "      <th>id</th>\n",
       "      <th>host_id</th>\n",
       "      <th>listing_url</th>\n",
       "      <th>room_type</th>\n",
       "      <th>neighbourhood_group_cleansed</th>\n",
       "      <th>price</th>\n",
       "      <th>cleaning_fee</th>\n",
       "      <th>amenities</th>\n",
       "      <th>n_amenities</th>\n",
       "      <th>accommodates</th>\n",
       "      <th>accommodates_type</th>\n",
       "      <th>minimum_nights</th>\n",
       "      <th>minimum_cost</th>\n",
       "    </tr>\n",
       "  </thead>\n",
       "  <tbody>\n",
       "    <tr>\n",
       "      <th>0</th>\n",
       "      <td>6369</td>\n",
       "      <td>13660</td>\n",
       "      <td>https://www.airbnb.com/rooms/6369</td>\n",
       "      <td>Private room</td>\n",
       "      <td>Chamartín</td>\n",
       "      <td>70.0</td>\n",
       "      <td>5.0</td>\n",
       "      <td>{Wifi,\"Air conditioning\",Kitchen,Elevator,Heat...</td>\n",
       "      <td>16</td>\n",
       "      <td>2</td>\n",
       "      <td>Couple</td>\n",
       "      <td>1</td>\n",
       "      <td>75.0</td>\n",
       "    </tr>\n",
       "    <tr>\n",
       "      <th>1</th>\n",
       "      <td>21853</td>\n",
       "      <td>83531</td>\n",
       "      <td>https://www.airbnb.com/rooms/21853</td>\n",
       "      <td>Private room</td>\n",
       "      <td>Latina</td>\n",
       "      <td>17.0</td>\n",
       "      <td>0.0</td>\n",
       "      <td>{TV,Internet,Wifi,\"Air conditioning\",Kitchen,\"...</td>\n",
       "      <td>31</td>\n",
       "      <td>1</td>\n",
       "      <td>Single</td>\n",
       "      <td>4</td>\n",
       "      <td>68.0</td>\n",
       "    </tr>\n",
       "    <tr>\n",
       "      <th>2</th>\n",
       "      <td>24805</td>\n",
       "      <td>101471</td>\n",
       "      <td>https://www.airbnb.com/rooms/24805</td>\n",
       "      <td>Entire home/apt</td>\n",
       "      <td>Centro</td>\n",
       "      <td>80.0</td>\n",
       "      <td>30.0</td>\n",
       "      <td>{TV,Internet,Wifi,\"Air conditioning\",Kitchen,E...</td>\n",
       "      <td>32</td>\n",
       "      <td>3</td>\n",
       "      <td>Family</td>\n",
       "      <td>5</td>\n",
       "      <td>550.0</td>\n",
       "    </tr>\n",
       "    <tr>\n",
       "      <th>3</th>\n",
       "      <td>24836</td>\n",
       "      <td>101653</td>\n",
       "      <td>https://www.airbnb.com/rooms/24836</td>\n",
       "      <td>Entire home/apt</td>\n",
       "      <td>Centro</td>\n",
       "      <td>115.0</td>\n",
       "      <td>0.0</td>\n",
       "      <td>{TV,\"Cable TV\",Internet,Wifi,\"Air conditioning...</td>\n",
       "      <td>18</td>\n",
       "      <td>4</td>\n",
       "      <td>Family</td>\n",
       "      <td>3</td>\n",
       "      <td>345.0</td>\n",
       "    </tr>\n",
       "    <tr>\n",
       "      <th>4</th>\n",
       "      <td>26825</td>\n",
       "      <td>114340</td>\n",
       "      <td>https://www.airbnb.com/rooms/26825</td>\n",
       "      <td>Private room</td>\n",
       "      <td>Arganzuela</td>\n",
       "      <td>25.0</td>\n",
       "      <td>15.0</td>\n",
       "      <td>{Wifi,\"Wheelchair accessible\",Doorman,Elevator...</td>\n",
       "      <td>16</td>\n",
       "      <td>1</td>\n",
       "      <td>Single</td>\n",
       "      <td>2</td>\n",
       "      <td>80.0</td>\n",
       "    </tr>\n",
       "  </tbody>\n",
       "</table>\n",
       "</div>"
      ],
      "text/plain": [
       "      id  host_id                         listing_url        room_type  \\\n",
       "0   6369    13660   https://www.airbnb.com/rooms/6369     Private room   \n",
       "1  21853    83531  https://www.airbnb.com/rooms/21853     Private room   \n",
       "2  24805   101471  https://www.airbnb.com/rooms/24805  Entire home/apt   \n",
       "3  24836   101653  https://www.airbnb.com/rooms/24836  Entire home/apt   \n",
       "4  26825   114340  https://www.airbnb.com/rooms/26825     Private room   \n",
       "\n",
       "  neighbourhood_group_cleansed  price  cleaning_fee  \\\n",
       "0                    Chamartín   70.0           5.0   \n",
       "1                       Latina   17.0           0.0   \n",
       "2                       Centro   80.0          30.0   \n",
       "3                       Centro  115.0           0.0   \n",
       "4                   Arganzuela   25.0          15.0   \n",
       "\n",
       "                                           amenities  n_amenities  \\\n",
       "0  {Wifi,\"Air conditioning\",Kitchen,Elevator,Heat...           16   \n",
       "1  {TV,Internet,Wifi,\"Air conditioning\",Kitchen,\"...           31   \n",
       "2  {TV,Internet,Wifi,\"Air conditioning\",Kitchen,E...           32   \n",
       "3  {TV,\"Cable TV\",Internet,Wifi,\"Air conditioning...           18   \n",
       "4  {Wifi,\"Wheelchair accessible\",Doorman,Elevator...           16   \n",
       "\n",
       "   accommodates accommodates_type  minimum_nights  minimum_cost  \n",
       "0             2            Couple               1          75.0  \n",
       "1             1            Single               4          68.0  \n",
       "2             3            Family               5         550.0  \n",
       "3             4            Family               3         345.0  \n",
       "4             1            Single               2          80.0  "
      ]
     },
     "execution_count": 145,
     "metadata": {},
     "output_type": "execute_result"
    }
   ],
   "source": [
    "listings_detailed_df = listings_detailed[[\n",
    "    'id', 'host_id', 'listing_url', 'room_type', 'neighbourhood_group_cleansed', \n",
    "    'price', 'cleaning_fee', \n",
    "    'amenities',\n",
    "    'n_amenities',\n",
    "    'accommodates',\n",
    "    'accommodates_type',\n",
    "    'minimum_nights', \n",
    "    'minimum_cost']]\n",
    "listings_detailed_df.head()"
   ]
  },
  {
   "cell_type": "markdown",
   "metadata": {},
   "source": [
    "# 开始数据分析"
   ]
  },
  {
   "cell_type": "markdown",
   "metadata": {},
   "source": [
    "## 房间类型情况"
   ]
  },
  {
   "cell_type": "code",
   "execution_count": 146,
   "metadata": {},
   "outputs": [
    {
     "data": {
      "text/plain": [
       "array(['Private room', 'Entire home/apt', 'Hotel room', 'Shared room'],\n",
       "      dtype=object)"
      ]
     },
     "execution_count": 146,
     "metadata": {},
     "output_type": "execute_result"
    }
   ],
   "source": [
    "listings_lite_df['room_type'].unique()"
   ]
  },
  {
   "cell_type": "code",
   "execution_count": 147,
   "metadata": {},
   "outputs": [
    {
     "data": {
      "image/png": "[encoded data removed]",
      "text/plain": [
       "<Figure size 720x360 with 2 Axes>"
      ]
     },
     "metadata": {
      "needs_background": "light"
     },
     "output_type": "display_data"
    }
   ],
   "source": [
    "# value_counts返回每一个值的数量\n",
    "room_type_data = listings_lite_df['room_type'].value_counts()\n",
    "# 比例\n",
    "fig,axes = plt.subplots(1,2,figsize=(10,5))\n",
    "axes[0].pie(room_type_data.values,autopct=\"%.2f%%\",labels=room_type_data.index)\n",
    "sns.barplot(y=room_type_data.index,x=room_type_data.values,ax=axes[1],orient='h')\n",
    "# 自适应调整\n",
    "plt.tight_layout()"
   ]
  },
  {
   "cell_type": "markdown",
   "metadata": {},
   "source": [
    "## 房子地区分布情况"
   ]
  },
  {
   "cell_type": "code",
   "execution_count": 148,
   "metadata": {},
   "outputs": [
    {
     "data": {
      "text/plain": [
       "<matplotlib.axes._subplots.AxesSubplot at 0x299ec9b3188>"
      ]
     },
     "execution_count": 148,
     "metadata": {},
     "output_type": "execute_result"
    },
    {
     "data": {
      "image/png": "[encoded data removed]",
      "text/plain": [
       "<Figure size 432x288 with 1 Axes>"
      ]
     },
     "metadata": {
      "needs_background": "light"
     },
     "output_type": "display_data"
    }
   ],
   "source": [
    "neighbourhood_group_cleansed = listings_lite_df['neighbourhood_group_cleansed'].value_counts()\n",
    "sns.barplot(y=neighbourhood_group_cleansed.index,x=neighbourhood_group_cleansed.values,orient='h')"
   ]
  },
  {
   "cell_type": "markdown",
   "metadata": {},
   "source": [
    "## 房间类型和社区对比分析（地区与房间类型的关系）\n",
    "\n",
    "绘制每一个社区的房间类型占比，用柱形图堆叠的方式"
   ]
  },
  {
   "cell_type": "code",
   "execution_count": 149,
   "metadata": {},
   "outputs": [
    {
     "data": {
      "text/plain": [
       "<pandas.core.groupby.generic.DataFrameGroupBy object at 0x00000299ECAA70C8>"
      ]
     },
     "execution_count": 149,
     "metadata": {},
     "output_type": "execute_result"
    }
   ],
   "source": [
    "# 先把数据弄出来\n",
    "# 先按照社区分组，再按照房间类型分组\n",
    "listings_lite_df.groupby(['neighbourhood_group_cleansed', 'room_type'])"
   ]
  },
  {
   "cell_type": "code",
   "execution_count": 150,
   "metadata": {},
   "outputs": [
    {
     "data": {
      "text/html": [
       "<div>\n",
       "<style scoped>\n",
       "    .dataframe tbody tr th:only-of-type {\n",
       "        vertical-align: middle;\n",
       "    }\n",
       "\n",
       "    .dataframe tbody tr th {\n",
       "        vertical-align: top;\n",
       "    }\n",
       "\n",
       "    .dataframe thead th {\n",
       "        text-align: right;\n",
       "    }\n",
       "</style>\n",
       "<table border=\"1\" class=\"dataframe\">\n",
       "  <thead>\n",
       "    <tr style=\"text-align: right;\">\n",
       "      <th>room_type</th>\n",
       "      <th>Entire home/apt</th>\n",
       "      <th>Hotel room</th>\n",
       "      <th>Private room</th>\n",
       "      <th>Shared room</th>\n",
       "    </tr>\n",
       "    <tr>\n",
       "      <th>neighbourhood_group_cleansed</th>\n",
       "      <th></th>\n",
       "      <th></th>\n",
       "      <th></th>\n",
       "      <th></th>\n",
       "    </tr>\n",
       "  </thead>\n",
       "  <tbody>\n",
       "    <tr>\n",
       "      <th>Villaverde</th>\n",
       "      <td>0.168675</td>\n",
       "      <td>0.006024</td>\n",
       "      <td>0.753012</td>\n",
       "      <td>0.072289</td>\n",
       "    </tr>\n",
       "    <tr>\n",
       "      <th>Vicálvaro</th>\n",
       "      <td>0.184615</td>\n",
       "      <td>0.000000</td>\n",
       "      <td>0.784615</td>\n",
       "      <td>0.030769</td>\n",
       "    </tr>\n",
       "    <tr>\n",
       "      <th>Moratalaz</th>\n",
       "      <td>0.244094</td>\n",
       "      <td>0.015748</td>\n",
       "      <td>0.732283</td>\n",
       "      <td>0.007874</td>\n",
       "    </tr>\n",
       "    <tr>\n",
       "      <th>Barajas</th>\n",
       "      <td>0.260606</td>\n",
       "      <td>0.000000</td>\n",
       "      <td>0.727273</td>\n",
       "      <td>0.012121</td>\n",
       "    </tr>\n",
       "    <tr>\n",
       "      <th>San Blas - Canillejas</th>\n",
       "      <td>0.295802</td>\n",
       "      <td>0.000000</td>\n",
       "      <td>0.694656</td>\n",
       "      <td>0.009542</td>\n",
       "    </tr>\n",
       "    <tr>\n",
       "      <th>Villa de Vallecas</th>\n",
       "      <td>0.330097</td>\n",
       "      <td>0.000000</td>\n",
       "      <td>0.621359</td>\n",
       "      <td>0.048544</td>\n",
       "    </tr>\n",
       "    <tr>\n",
       "      <th>Ciudad Lineal</th>\n",
       "      <td>0.360522</td>\n",
       "      <td>0.003263</td>\n",
       "      <td>0.618271</td>\n",
       "      <td>0.017945</td>\n",
       "    </tr>\n",
       "    <tr>\n",
       "      <th>Usera</th>\n",
       "      <td>0.382271</td>\n",
       "      <td>0.036011</td>\n",
       "      <td>0.551247</td>\n",
       "      <td>0.030471</td>\n",
       "    </tr>\n",
       "    <tr>\n",
       "      <th>Carabanchel</th>\n",
       "      <td>0.383481</td>\n",
       "      <td>0.001475</td>\n",
       "      <td>0.594395</td>\n",
       "      <td>0.020649</td>\n",
       "    </tr>\n",
       "    <tr>\n",
       "      <th>Latina</th>\n",
       "      <td>0.386364</td>\n",
       "      <td>0.001623</td>\n",
       "      <td>0.589286</td>\n",
       "      <td>0.022727</td>\n",
       "    </tr>\n",
       "    <tr>\n",
       "      <th>Fuencarral - El Pardo</th>\n",
       "      <td>0.400000</td>\n",
       "      <td>0.000000</td>\n",
       "      <td>0.573333</td>\n",
       "      <td>0.026667</td>\n",
       "    </tr>\n",
       "    <tr>\n",
       "      <th>Puente de Vallecas</th>\n",
       "      <td>0.414552</td>\n",
       "      <td>0.010152</td>\n",
       "      <td>0.556684</td>\n",
       "      <td>0.018613</td>\n",
       "    </tr>\n",
       "    <tr>\n",
       "      <th>Hortaleza</th>\n",
       "      <td>0.430723</td>\n",
       "      <td>0.066265</td>\n",
       "      <td>0.496988</td>\n",
       "      <td>0.006024</td>\n",
       "    </tr>\n",
       "    <tr>\n",
       "      <th>Moncloa - Aravaca</th>\n",
       "      <td>0.500000</td>\n",
       "      <td>0.011070</td>\n",
       "      <td>0.483395</td>\n",
       "      <td>0.005535</td>\n",
       "    </tr>\n",
       "    <tr>\n",
       "      <th>Arganzuela</th>\n",
       "      <td>0.539697</td>\n",
       "      <td>0.008029</td>\n",
       "      <td>0.444246</td>\n",
       "      <td>0.008029</td>\n",
       "    </tr>\n",
       "    <tr>\n",
       "      <th>Chamberí</th>\n",
       "      <td>0.567994</td>\n",
       "      <td>0.009767</td>\n",
       "      <td>0.403456</td>\n",
       "      <td>0.018783</td>\n",
       "    </tr>\n",
       "    <tr>\n",
       "      <th>Tetuán</th>\n",
       "      <td>0.577566</td>\n",
       "      <td>0.007160</td>\n",
       "      <td>0.411695</td>\n",
       "      <td>0.003580</td>\n",
       "    </tr>\n",
       "    <tr>\n",
       "      <th>Chamartín</th>\n",
       "      <td>0.613430</td>\n",
       "      <td>0.012704</td>\n",
       "      <td>0.353902</td>\n",
       "      <td>0.019964</td>\n",
       "    </tr>\n",
       "    <tr>\n",
       "      <th>Retiro</th>\n",
       "      <td>0.625564</td>\n",
       "      <td>0.003008</td>\n",
       "      <td>0.368421</td>\n",
       "      <td>0.003008</td>\n",
       "    </tr>\n",
       "    <tr>\n",
       "      <th>Salamanca</th>\n",
       "      <td>0.640000</td>\n",
       "      <td>0.045091</td>\n",
       "      <td>0.308364</td>\n",
       "      <td>0.006545</td>\n",
       "    </tr>\n",
       "    <tr>\n",
       "      <th>Centro</th>\n",
       "      <td>0.733142</td>\n",
       "      <td>0.033153</td>\n",
       "      <td>0.222040</td>\n",
       "      <td>0.011665</td>\n",
       "    </tr>\n",
       "  </tbody>\n",
       "</table>\n",
       "</div>"
      ],
      "text/plain": [
       "room_type                     Entire home/apt  Hotel room  Private room  \\\n",
       "neighbourhood_group_cleansed                                              \n",
       "Villaverde                           0.168675    0.006024      0.753012   \n",
       "Vicálvaro                            0.184615    0.000000      0.784615   \n",
       "Moratalaz                            0.244094    0.015748      0.732283   \n",
       "Barajas                              0.260606    0.000000      0.727273   \n",
       "San Blas - Canillejas                0.295802    0.000000      0.694656   \n",
       "Villa de Vallecas                    0.330097    0.000000      0.621359   \n",
       "Ciudad Lineal                        0.360522    0.003263      0.618271   \n",
       "Usera                                0.382271    0.036011      0.551247   \n",
       "Carabanchel                          0.383481    0.001475      0.594395   \n",
       "Latina                               0.386364    0.001623      0.589286   \n",
       "Fuencarral - El Pardo                0.400000    0.000000      0.573333   \n",
       "Puente de Vallecas                   0.414552    0.010152      0.556684   \n",
       "Hortaleza                            0.430723    0.066265      0.496988   \n",
       "Moncloa - Aravaca                    0.500000    0.011070      0.483395   \n",
       "Arganzuela                           0.539697    0.008029      0.444246   \n",
       "Chamberí                             0.567994    0.009767      0.403456   \n",
       "Tetuán                               0.577566    0.007160      0.411695   \n",
       "Chamartín                            0.613430    0.012704      0.353902   \n",
       "Retiro                               0.625564    0.003008      0.368421   \n",
       "Salamanca                            0.640000    0.045091      0.308364   \n",
       "Centro                               0.733142    0.033153      0.222040   \n",
       "\n",
       "room_type                     Shared room  \n",
       "neighbourhood_group_cleansed               \n",
       "Villaverde                       0.072289  \n",
       "Vicálvaro                        0.030769  \n",
       "Moratalaz                        0.007874  \n",
       "Barajas                          0.012121  \n",
       "San Blas - Canillejas            0.009542  \n",
       "Villa de Vallecas                0.048544  \n",
       "Ciudad Lineal                    0.017945  \n",
       "Usera                            0.030471  \n",
       "Carabanchel                      0.020649  \n",
       "Latina                           0.022727  \n",
       "Fuencarral - El Pardo            0.026667  \n",
       "Puente de Vallecas               0.018613  \n",
       "Hortaleza                        0.006024  \n",
       "Moncloa - Aravaca                0.005535  \n",
       "Arganzuela                       0.008029  \n",
       "Chamberí                         0.018783  \n",
       "Tetuán                           0.003580  \n",
       "Chamartín                        0.019964  \n",
       "Retiro                           0.003008  \n",
       "Salamanca                        0.006545  \n",
       "Centro                           0.011665  "
      ]
     },
     "execution_count": 150,
     "metadata": {},
     "output_type": "execute_result"
    }
   ],
   "source": [
    "# 上面看不出什么 size得到某个分组下面的数值\n",
    "# stack堆叠 unstack 卸载  把room_type当做索引 剩下的当做值 这个时候发现Hotel room有NaN类型 \n",
    "# 用0填充\n",
    "# 求每一行的比例 \n",
    "# 为了图好看些，我们排个序\n",
    "listings_lite_df.groupby(['neighbourhood_group_cleansed', 'room_type'])\\\n",
    "    .size() \\\n",
    "    .unstack(\"room_type\") \\\n",
    "    .fillna(0) \\\n",
    "    .apply(lambda row: row/row.sum(),axis=1) \\\n",
    "    .sort_values(\"Entire home/apt\",ascending=True)"
   ]
  },
  {
   "cell_type": "code",
   "execution_count": 151,
   "metadata": {},
   "outputs": [],
   "source": [
    "neighbour_room_type = listings_lite_df.groupby(['neighbourhood_group_cleansed', 'room_type'])\\\n",
    "    .size() \\\n",
    "    .unstack(\"room_type\") \\\n",
    "    .fillna(0) \\\n",
    "    .apply(lambda row: row/row.sum(),axis=1) \\\n",
    "    .sort_values(\"Entire home/apt\",ascending=True)"
   ]
  },
  {
   "cell_type": "code",
   "execution_count": 152,
   "metadata": {},
   "outputs": [
    {
     "data": {
      "text/plain": [
       "<BarContainer object of 21 artists>"
      ]
     },
     "execution_count": 152,
     "metadata": {},
     "output_type": "execute_result"
    },
    {
     "data": {
      "image/png": "[encoded data removed]",
      "text/plain": [
       "<Figure size 432x288 with 1 Axes>"
      ]
     },
     "metadata": {
      "needs_background": "light"
     },
     "output_type": "display_data"
    }
   ],
   "source": [
    "columns = neighbour_room_type.columns\n",
    "plt.barh(neighbour_room_type.index,neighbour_room_type[columns[0]])\n",
    "plt.barh(neighbour_room_type.index,neighbour_room_type[columns[1]])"
   ]
  },
  {
   "cell_type": "code",
   "execution_count": 153,
   "metadata": {},
   "outputs": [
    {
     "name": "stdout",
     "output_type": "stream",
     "text": [
      "Help on function barh in module matplotlib.pyplot:\n",
      "\n",
      "barh(y, width, height=0.8, left=None, *, align='center', **kwargs)\n",
      "    Make a horizontal bar plot.\n",
      "    \n",
      "    The bars are positioned at *y* with the given *align*\\ment. Their\n",
      "    dimensions are given by *width* and *height*. The horizontal baseline\n",
      "    is *left* (default 0).\n",
      "    \n",
      "    Each of *y*, *width*, *height*, and *left* may either be a scalar\n",
      "    applying to all bars, or it may be a sequence of length N providing a\n",
      "    separate value for each bar.\n",
      "    \n",
      "    Parameters\n",
      "    ----------\n",
      "    y : scalar or array-like\n",
      "        The y coordinates of the bars. See also *align* for the\n",
      "        alignment of the bars to the coordinates.\n",
      "    \n",
      "    width : scalar or array-like\n",
      "        The width(s) of the bars.\n",
      "    \n",
      "    height : sequence of scalars, optional, default: 0.8\n",
      "        The heights of the bars.\n",
      "    \n",
      "    left : sequence of scalars\n",
      "        The x coordinates of the left sides of the bars (default: 0).\n",
      "    \n",
      "    align : {'center', 'edge'}, optional, default: 'center'\n",
      "        Alignment of the base to the *y* coordinates*:\n",
      "    \n",
      "        - 'center': Center the bars on the *y* positions.\n",
      "        - 'edge': Align the bottom edges of the bars with the *y*\n",
      "          positions.\n",
      "    \n",
      "        To align the bars on the top edge pass a negative *height* and\n",
      "        ``align='edge'``.\n",
      "    \n",
      "    Returns\n",
      "    -------\n",
      "    container : `.BarContainer`\n",
      "        Container with all the bars and optionally errorbars.\n",
      "    \n",
      "    Other Parameters\n",
      "    ----------------\n",
      "    color : scalar or array-like, optional\n",
      "        The colors of the bar faces.\n",
      "    \n",
      "    edgecolor : scalar or array-like, optional\n",
      "        The colors of the bar edges.\n",
      "    \n",
      "    linewidth : scalar or array-like, optional\n",
      "        Width of the bar edge(s). If 0, don't draw edges.\n",
      "    \n",
      "    tick_label : string or array-like, optional\n",
      "        The tick labels of the bars.\n",
      "        Default: None (Use default numeric labels.)\n",
      "    \n",
      "    xerr, yerr : scalar or array-like of shape(N,) or shape(2,N), optional\n",
      "        If not ``None``, add horizontal / vertical errorbars to the\n",
      "        bar tips. The values are +/- sizes relative to the data:\n",
      "    \n",
      "        - scalar: symmetric +/- values for all bars\n",
      "        - shape(N,): symmetric +/- values for each bar\n",
      "        - shape(2,N): Separate - and + values for each bar. First row\n",
      "            contains the lower errors, the second row contains the\n",
      "            upper errors.\n",
      "        - *None*: No errorbar. (default)\n",
      "    \n",
      "        See :doc:`/gallery/statistics/errorbar_features`\n",
      "        for an example on the usage of ``xerr`` and ``yerr``.\n",
      "    \n",
      "    ecolor : scalar or array-like, optional, default: 'black'\n",
      "        The line color of the errorbars.\n",
      "    \n",
      "    capsize : scalar, optional\n",
      "       The length of the error bar caps in points.\n",
      "       Default: None, which will take the value from\n",
      "       :rc:`errorbar.capsize`.\n",
      "    \n",
      "    error_kw : dict, optional\n",
      "        Dictionary of kwargs to be passed to the `~.Axes.errorbar`\n",
      "        method. Values of *ecolor* or *capsize* defined here take\n",
      "        precedence over the independent kwargs.\n",
      "    \n",
      "    log : bool, optional, default: False\n",
      "        If ``True``, set the x-axis to be log scale.\n",
      "    \n",
      "    See also\n",
      "    --------\n",
      "    bar: Plot a vertical bar plot.\n",
      "    \n",
      "    Notes\n",
      "    -----\n",
      "    The optional arguments *color*, *edgecolor*, *linewidth*,\n",
      "    *xerr*, and *yerr* can be either scalars or sequences of\n",
      "    length equal to the number of bars.  This enables you to use\n",
      "    bar as the basis for stacked bar charts, or candlestick plots.\n",
      "    Detail: *xerr* and *yerr* are passed directly to\n",
      "    :meth:`errorbar`, so they can also have shape 2xN for\n",
      "    independent specification of lower and upper errors.\n",
      "    \n",
      "    Other optional kwargs:\n",
      "    \n",
      "      agg_filter: a filter function, which takes a (m, n, 3) float array and a dpi value, and returns a (m, n, 3) array\n",
      "      alpha: float or None\n",
      "      animated: bool\n",
      "      antialiased or aa: unknown\n",
      "      capstyle: {'butt', 'round', 'projecting'}\n",
      "      clip_box: `.Bbox`\n",
      "      clip_on: bool\n",
      "      clip_path: [(`~matplotlib.path.Path`, `.Transform`) | `.Patch` | None]\n",
      "      color: color\n",
      "      contains: callable\n",
      "      edgecolor or ec: color or None or 'auto'\n",
      "      facecolor or fc: color or None\n",
      "      figure: `.Figure`\n",
      "      fill: bool\n",
      "      gid: str\n",
      "      hatch: {'/', '\\\\', '|', '-', '+', 'x', 'o', 'O', '.', '*'}\n",
      "      in_layout: bool\n",
      "      joinstyle: {'miter', 'round', 'bevel'}\n",
      "      label: object\n",
      "      linestyle or ls: {'-', '--', '-.', ':', '', (offset, on-off-seq), ...}\n",
      "      linewidth or lw: float or None\n",
      "      path_effects: `.AbstractPathEffect`\n",
      "      picker: None or bool or float or callable\n",
      "      rasterized: bool or None\n",
      "      sketch_params: (scale: float, length: float, randomness: float)\n",
      "      snap: bool or None\n",
      "      transform: `.Transform`\n",
      "      url: str\n",
      "      visible: bool\n",
      "      zorder: float\n",
      "\n"
     ]
    }
   ],
   "source": [
    "# 上面黄色的部分是沿着底部绘制的，而不是右侧\n",
    "help(plt.barh)\n",
    "# left 绘制的时候距离左边要多少"
   ]
  },
  {
   "cell_type": "code",
   "execution_count": 154,
   "metadata": {},
   "outputs": [
    {
     "data": {
      "text/plain": [
       "<matplotlib.legend.Legend at 0x299ecc07ac8>"
      ]
     },
     "execution_count": 154,
     "metadata": {},
     "output_type": "execute_result"
    },
    {
     "data": {
      "image/png": "[encoded data removed]",
      "text/plain": [
       "<Figure size 720x576 with 1 Axes>"
      ]
     },
     "metadata": {
      "needs_background": "light"
     },
     "output_type": "display_data"
    }
   ],
   "source": [
    "fig, axes = plt.subplots(figsize=(10, 8))  # 放大点\n",
    "columns = neighbour_room_type.columns\n",
    "plt.barh(neighbour_room_type.index, neighbour_room_type[columns[0]])\n",
    "left = neighbour_room_type[columns[0]].copy()\n",
    "plt.barh(neighbour_room_type.index, neighbour_room_type[columns[1]], left=left)\n",
    "left += neighbour_room_type[columns[1]].copy()\n",
    "plt.barh(neighbour_room_type.index, neighbour_room_type[columns[2]], left=left)\n",
    "left += neighbour_room_type[columns[2]].copy()\n",
    "plt.barh(neighbour_room_type.index, neighbour_room_type[columns[3]], left=left)\n",
    "plt.legend(columns)  # 图例"
   ]
  },
  {
   "cell_type": "code",
   "execution_count": 155,
   "metadata": {},
   "outputs": [
    {
     "data": {
      "text/plain": [
       "<matplotlib.axes._subplots.AxesSubplot at 0x299ecd33f48>"
      ]
     },
     "execution_count": 155,
     "metadata": {},
     "output_type": "execute_result"
    },
    {
     "data": {
      "image/png": "[encoded data removed]",
      "text/plain": [
       "<Figure size 720x576 with 1 Axes>"
      ]
     },
     "metadata": {
      "needs_background": "light"
     },
     "output_type": "display_data"
    }
   ],
   "source": [
    "# 用pandas绘图\n",
    "# kind绘图类型 stacked堆叠 \n",
    "fig,axes = plt.subplots(figsize=(10,8))\n",
    "neighbour_room_type.plot(kind=\"barh\",width=0.75,stacked=True,ax=axes)"
   ]
  },
  {
   "cell_type": "markdown",
   "metadata": {},
   "source": [
    "## 房东房源数量分析（每个房东有多少套房子）\n",
    "\n",
    "host_id 根据ID分组"
   ]
  },
  {
   "cell_type": "code",
   "execution_count": 156,
   "metadata": {
    "scrolled": true
   },
   "outputs": [
    {
     "data": {
      "text/plain": [
       "host_id\n",
       "5154         1\n",
       "13660        1\n",
       "31622        2\n",
       "50106        1\n",
       "53526        4\n",
       "            ..\n",
       "295609476    1\n",
       "295823572    1\n",
       "295847180    1\n",
       "295894160    2\n",
       "296084664    1\n",
       "Length: 11969, dtype: int64"
      ]
     },
     "execution_count": 156,
     "metadata": {},
     "output_type": "execute_result"
    }
   ],
   "source": [
    "listings_lite_df.groupby(\"host_id\").size()"
   ]
  },
  {
   "cell_type": "code",
   "execution_count": 157,
   "metadata": {},
   "outputs": [
    {
     "data": {
      "text/plain": [
       "231"
      ]
     },
     "execution_count": 157,
     "metadata": {},
     "output_type": "execute_result"
    }
   ],
   "source": [
    "max(listings_lite_df.groupby(\"host_id\").size())"
   ]
  },
  {
   "cell_type": "code",
   "execution_count": 158,
   "metadata": {
    "scrolled": true
   },
   "outputs": [
    {
     "data": {
      "text/plain": [
       "host_id\n",
       "5154           1\n",
       "13660          1\n",
       "31622          2\n",
       "50106          1\n",
       "53526        3-4\n",
       "            ... \n",
       "295609476      1\n",
       "295823572      1\n",
       "295847180      1\n",
       "295894160      2\n",
       "296084664      1\n",
       "Length: 11969, dtype: category\n",
       "Categories (4, object): [1 < 2 < 3-4 < 5+]"
      ]
     },
     "execution_count": 158,
     "metadata": {},
     "output_type": "execute_result"
    }
   ],
   "source": [
    "n_listings_per_user = listings_lite_df.groupby(\"host_id\").size()\n",
    "listings_times = pd.cut(n_listings_per_user,bins=[1,2,3,5,1000],include_lowest=True,right=False,labels=['1','2','3-4','5+'])\n",
    "listings_times"
   ]
  },
  {
   "cell_type": "code",
   "execution_count": 159,
   "metadata": {},
   "outputs": [
    {
     "data": {
      "text/plain": [
       "1      9429\n",
       "2      1338\n",
       "3-4     661\n",
       "5+      541\n",
       "dtype: int64"
      ]
     },
     "execution_count": 159,
     "metadata": {},
     "output_type": "execute_result"
    }
   ],
   "source": [
    "# 上面那个数据不能直接进行绘图 还要统计出现的次数\n",
    "listings_times = pd.cut(n_listings_per_user,bins=[1,2,3,5,1000],include_lowest=True,right=False,labels=['1','2','3-4','5+']).value_counts()\n",
    "listings_times "
   ]
  },
  {
   "cell_type": "code",
   "execution_count": 160,
   "metadata": {},
   "outputs": [
    {
     "data": {
      "text/plain": [
       "([<matplotlib.patches.Wedge at 0x299ecee0548>,\n",
       "  <matplotlib.patches.Wedge at 0x299ecee0cc8>,\n",
       "  <matplotlib.patches.Wedge at 0x299ecee8588>,\n",
       "  <matplotlib.patches.Wedge at 0x299ecee8e48>],\n",
       " [Text(-0.8644582578135782, 0.6802293146416973, '1'),\n",
       "  Text(0.6107220900430627, -0.9148871672143146, '2'),\n",
       "  Text(0.9868763999443085, -0.4858754688528341, '3-4'),\n",
       "  Text(1.0889283783324408, -0.15567590328076109, '5+')],\n",
       " [Text(-0.47152268608013354, 0.37103417162274394, '78.78%'),\n",
       "  Text(0.3331211400234887, -0.4990293639350806, '11.18%'),\n",
       "  Text(0.5382962181514409, -0.26502298301063676, '5.52%'),\n",
       "  Text(0.5939609336358768, -0.08491412906223332, '4.52%')])"
      ]
     },
     "execution_count": 160,
     "metadata": {},
     "output_type": "execute_result"
    },
    {
     "data": {
      "image/png": "[encoded data removed]",
      "text/plain": [
       "<Figure size 432x288 with 1 Axes>"
      ]
     },
     "metadata": {},
     "output_type": "display_data"
    }
   ],
   "source": [
    "plt.pie(listings_times,autopct=\"%.2f%%\",labels=listings_times.index)"
   ]
  },
  {
   "cell_type": "markdown",
   "metadata": {},
   "source": [
    "## 评论数量与时间分析"
   ]
  },
  {
   "cell_type": "markdown",
   "metadata": {},
   "source": [
    "### 处理数据"
   ]
  },
  {
   "cell_type": "code",
   "execution_count": 161,
   "metadata": {},
   "outputs": [
    {
     "data": {
      "text/html": [
       "<div>\n",
       "<style scoped>\n",
       "    .dataframe tbody tr th:only-of-type {\n",
       "        vertical-align: middle;\n",
       "    }\n",
       "\n",
       "    .dataframe tbody tr th {\n",
       "        vertical-align: top;\n",
       "    }\n",
       "\n",
       "    .dataframe thead th {\n",
       "        text-align: right;\n",
       "    }\n",
       "</style>\n",
       "<table border=\"1\" class=\"dataframe\">\n",
       "  <thead>\n",
       "    <tr style=\"text-align: right;\">\n",
       "      <th></th>\n",
       "      <th>listing_id</th>\n",
       "      <th>id</th>\n",
       "      <th>date</th>\n",
       "      <th>reviewer_id</th>\n",
       "      <th>reviewer_name</th>\n",
       "      <th>comments</th>\n",
       "    </tr>\n",
       "  </thead>\n",
       "  <tbody>\n",
       "    <tr>\n",
       "      <th>0</th>\n",
       "      <td>6369</td>\n",
       "      <td>29428</td>\n",
       "      <td>2010-03-14</td>\n",
       "      <td>84790</td>\n",
       "      <td>Nancy</td>\n",
       "      <td>Simon and Arturo have the ultimate location in...</td>\n",
       "    </tr>\n",
       "    <tr>\n",
       "      <th>1</th>\n",
       "      <td>6369</td>\n",
       "      <td>31018</td>\n",
       "      <td>2010-03-23</td>\n",
       "      <td>84338</td>\n",
       "      <td>David</td>\n",
       "      <td>Myself and Kristy originally planned on stayin...</td>\n",
       "    </tr>\n",
       "    <tr>\n",
       "      <th>2</th>\n",
       "      <td>6369</td>\n",
       "      <td>34694</td>\n",
       "      <td>2010-04-10</td>\n",
       "      <td>98655</td>\n",
       "      <td>Marion</td>\n",
       "      <td>We had a great time at Arturo and Simon's ! A ...</td>\n",
       "    </tr>\n",
       "    <tr>\n",
       "      <th>3</th>\n",
       "      <td>6369</td>\n",
       "      <td>37146</td>\n",
       "      <td>2010-04-21</td>\n",
       "      <td>109871</td>\n",
       "      <td>Kurt</td>\n",
       "      <td>I very much enjoyed the stay.  \\r\\nIt's a wond...</td>\n",
       "    </tr>\n",
       "    <tr>\n",
       "      <th>4</th>\n",
       "      <td>6369</td>\n",
       "      <td>38168</td>\n",
       "      <td>2010-04-26</td>\n",
       "      <td>98901</td>\n",
       "      <td>Dennis</td>\n",
       "      <td>Arturo and Simon are polite and friendly hosts...</td>\n",
       "    </tr>\n",
       "  </tbody>\n",
       "</table>\n",
       "</div>"
      ],
      "text/plain": [
       "   listing_id     id        date  reviewer_id reviewer_name  \\\n",
       "0        6369  29428  2010-03-14        84790         Nancy   \n",
       "1        6369  31018  2010-03-23        84338         David   \n",
       "2        6369  34694  2010-04-10        98655        Marion   \n",
       "3        6369  37146  2010-04-21       109871          Kurt   \n",
       "4        6369  38168  2010-04-26        98901        Dennis   \n",
       "\n",
       "                                            comments  \n",
       "0  Simon and Arturo have the ultimate location in...  \n",
       "1  Myself and Kristy originally planned on stayin...  \n",
       "2  We had a great time at Arturo and Simon's ! A ...  \n",
       "3  I very much enjoyed the stay.  \\r\\nIt's a wond...  \n",
       "4  Arturo and Simon are polite and friendly hosts...  "
      ]
     },
     "execution_count": 161,
     "metadata": {},
     "output_type": "execute_result"
    }
   ],
   "source": [
    "reviews = pd.read_csv(\"./data/madrid-airbnb-data/reviews_detailed.csv\")\n",
    "reviews.head()"
   ]
  },
  {
   "cell_type": "code",
   "execution_count": 162,
   "metadata": {},
   "outputs": [
    {
     "name": "stdout",
     "output_type": "stream",
     "text": [
      "<class 'pandas.core.frame.DataFrame'>\n",
      "RangeIndex: 732710 entries, 0 to 732709\n",
      "Data columns (total 6 columns):\n",
      " #   Column         Non-Null Count   Dtype \n",
      "---  ------         --------------   ----- \n",
      " 0   listing_id     732710 non-null  int64 \n",
      " 1   id             732710 non-null  int64 \n",
      " 2   date           732710 non-null  object\n",
      " 3   reviewer_id    732710 non-null  int64 \n",
      " 4   reviewer_name  732709 non-null  object\n",
      " 5   comments       732410 non-null  object\n",
      "dtypes: int64(3), object(3)\n",
      "memory usage: 33.5+ MB\n"
     ]
    }
   ],
   "source": [
    "reviews.info() #object 实际上就是字符串类型"
   ]
  },
  {
   "cell_type": "code",
   "execution_count": 163,
   "metadata": {
    "scrolled": true
   },
   "outputs": [
    {
     "name": "stdout",
     "output_type": "stream",
     "text": [
      "<class 'pandas.core.frame.DataFrame'>\n",
      "RangeIndex: 732710 entries, 0 to 732709\n",
      "Data columns (total 6 columns):\n",
      " #   Column         Non-Null Count   Dtype         \n",
      "---  ------         --------------   -----         \n",
      " 0   listing_id     732710 non-null  int64         \n",
      " 1   id             732710 non-null  int64         \n",
      " 2   date           732710 non-null  datetime64[ns]\n",
      " 3   reviewer_id    732710 non-null  int64         \n",
      " 4   reviewer_name  732709 non-null  object        \n",
      " 5   comments       732410 non-null  object        \n",
      "dtypes: datetime64[ns](1), int64(3), object(2)\n",
      "memory usage: 33.5+ MB\n"
     ]
    }
   ],
   "source": [
    "# parse_dates将那些列转化为date类型\n",
    "reviews = pd.read_csv(\"./data/madrid-airbnb-data/reviews_detailed.csv\",parse_dates=['date'])\n",
    "reviews.info() #就不需要用pd的to_datatime转化了"
   ]
  },
  {
   "cell_type": "markdown",
   "metadata": {},
   "source": [
    "### 增加几列"
   ]
  },
  {
   "cell_type": "code",
   "execution_count": 164,
   "metadata": {},
   "outputs": [],
   "source": [
    "reviews['year'] = reviews['date'].dt.year\n",
    "reviews['month'] = reviews['date'].dt.month"
   ]
  },
  {
   "cell_type": "code",
   "execution_count": 165,
   "metadata": {},
   "outputs": [
    {
     "data": {
      "text/plain": [
       "year\n",
       "2010        32\n",
       "2011       375\n",
       "2012      1971\n",
       "2013      5800\n",
       "2014     15551\n",
       "2015     38606\n",
       "2016     77220\n",
       "2017    148083\n",
       "2018    226054\n",
       "2019    219018\n",
       "dtype: int64"
      ]
     },
     "execution_count": 165,
     "metadata": {},
     "output_type": "execute_result"
    }
   ],
   "source": [
    "reviews.groupby(\"year\").size()"
   ]
  },
  {
   "cell_type": "markdown",
   "metadata": {},
   "source": [
    "### 每年的评论数量变化"
   ]
  },
  {
   "cell_type": "code",
   "execution_count": 166,
   "metadata": {
    "scrolled": true
   },
   "outputs": [
    {
     "data": {
      "text/plain": [
       "<matplotlib.axes._subplots.AxesSubplot at 0x29a56d58d08>"
      ]
     },
     "execution_count": 166,
     "metadata": {},
     "output_type": "execute_result"
    },
    {
     "data": {
      "image/png": "[encoded data removed]",
      "text/plain": [
       "<Figure size 432x288 with 1 Axes>"
      ]
     },
     "metadata": {
      "needs_background": "light"
     },
     "output_type": "display_data"
    }
   ],
   "source": [
    "n_reviews_year = reviews.groupby('year').size()\n",
    "sns.barplot(x=n_reviews_year.index,y=n_reviews_year.values)\n",
    "# 2019年评论并不是少了，而是11、12月的评论数据缺失"
   ]
  },
  {
   "cell_type": "markdown",
   "metadata": {},
   "source": [
    "### 每个月的评论数量变化"
   ]
  },
  {
   "cell_type": "code",
   "execution_count": 167,
   "metadata": {},
   "outputs": [
    {
     "data": {
      "text/plain": [
       "<matplotlib.axes._subplots.AxesSubplot at 0x299ecf4d288>"
      ]
     },
     "execution_count": 167,
     "metadata": {},
     "output_type": "execute_result"
    },
    {
     "data": {
      "image/png": "[encoded data removed]",
      "text/plain": [
       "<Figure size 432x288 with 1 Axes>"
      ]
     },
     "metadata": {
      "needs_background": "light"
     },
     "output_type": "display_data"
    }
   ],
   "source": [
    "n_reviews_month = reviews.groupby('month').size()\n",
    "sns.barplot(x=n_reviews_month.index,y=n_reviews_month.values)\n",
    "# 出售的高峰期，评论数量越多"
   ]
  },
  {
   "cell_type": "markdown",
   "metadata": {},
   "source": [
    "## 评论数量与时间综合分析\n",
    "\n",
    "综合来看下，每年中，每个月的评论次数的情况。如果还用柱状图会比较拥挤，所以这里用折线图+条形图\n",
    "\n"
   ]
  },
  {
   "cell_type": "code",
   "execution_count": 168,
   "metadata": {},
   "outputs": [
    {
     "data": {
      "text/plain": [
       "year  month\n",
       "2010  3            2\n",
       "      4            3\n",
       "      5            5\n",
       "      6            3\n",
       "      7            1\n",
       "               ...  \n",
       "2019  5        31189\n",
       "      6        34079\n",
       "      7        27547\n",
       "      8        22139\n",
       "      9        11324\n",
       "Length: 114, dtype: int64"
      ]
     },
     "execution_count": 168,
     "metadata": {},
     "output_type": "execute_result"
    }
   ],
   "source": [
    "# 按照年月分组\n",
    "reviews.groupby(['year','month']).size()"
   ]
  },
  {
   "cell_type": "code",
   "execution_count": 169,
   "metadata": {
    "scrolled": true
   },
   "outputs": [
    {
     "data": {
      "text/html": [
       "<div>\n",
       "<style scoped>\n",
       "    .dataframe tbody tr th:only-of-type {\n",
       "        vertical-align: middle;\n",
       "    }\n",
       "\n",
       "    .dataframe tbody tr th {\n",
       "        vertical-align: top;\n",
       "    }\n",
       "\n",
       "    .dataframe thead th {\n",
       "        text-align: right;\n",
       "    }\n",
       "</style>\n",
       "<table border=\"1\" class=\"dataframe\">\n",
       "  <thead>\n",
       "    <tr style=\"text-align: right;\">\n",
       "      <th>month</th>\n",
       "      <th>1</th>\n",
       "      <th>2</th>\n",
       "      <th>3</th>\n",
       "      <th>4</th>\n",
       "      <th>5</th>\n",
       "      <th>6</th>\n",
       "      <th>7</th>\n",
       "      <th>8</th>\n",
       "      <th>9</th>\n",
       "      <th>10</th>\n",
       "      <th>11</th>\n",
       "      <th>12</th>\n",
       "    </tr>\n",
       "    <tr>\n",
       "      <th>year</th>\n",
       "      <th></th>\n",
       "      <th></th>\n",
       "      <th></th>\n",
       "      <th></th>\n",
       "      <th></th>\n",
       "      <th></th>\n",
       "      <th></th>\n",
       "      <th></th>\n",
       "      <th></th>\n",
       "      <th></th>\n",
       "      <th></th>\n",
       "      <th></th>\n",
       "    </tr>\n",
       "  </thead>\n",
       "  <tbody>\n",
       "    <tr>\n",
       "      <th>2010</th>\n",
       "      <td>0.0</td>\n",
       "      <td>0.0</td>\n",
       "      <td>2.0</td>\n",
       "      <td>3.0</td>\n",
       "      <td>5.0</td>\n",
       "      <td>3.0</td>\n",
       "      <td>1.0</td>\n",
       "      <td>0.0</td>\n",
       "      <td>5.0</td>\n",
       "      <td>5.0</td>\n",
       "      <td>6.0</td>\n",
       "      <td>2.0</td>\n",
       "    </tr>\n",
       "    <tr>\n",
       "      <th>2011</th>\n",
       "      <td>2.0</td>\n",
       "      <td>5.0</td>\n",
       "      <td>6.0</td>\n",
       "      <td>4.0</td>\n",
       "      <td>24.0</td>\n",
       "      <td>35.0</td>\n",
       "      <td>51.0</td>\n",
       "      <td>32.0</td>\n",
       "      <td>48.0</td>\n",
       "      <td>74.0</td>\n",
       "      <td>50.0</td>\n",
       "      <td>44.0</td>\n",
       "    </tr>\n",
       "    <tr>\n",
       "      <th>2012</th>\n",
       "      <td>61.0</td>\n",
       "      <td>54.0</td>\n",
       "      <td>78.0</td>\n",
       "      <td>133.0</td>\n",
       "      <td>195.0</td>\n",
       "      <td>172.0</td>\n",
       "      <td>179.0</td>\n",
       "      <td>165.0</td>\n",
       "      <td>233.0</td>\n",
       "      <td>296.0</td>\n",
       "      <td>225.0</td>\n",
       "      <td>180.0</td>\n",
       "    </tr>\n",
       "    <tr>\n",
       "      <th>2013</th>\n",
       "      <td>205.0</td>\n",
       "      <td>202.0</td>\n",
       "      <td>301.0</td>\n",
       "      <td>434.0</td>\n",
       "      <td>551.0</td>\n",
       "      <td>536.0</td>\n",
       "      <td>529.0</td>\n",
       "      <td>408.0</td>\n",
       "      <td>695.0</td>\n",
       "      <td>764.0</td>\n",
       "      <td>602.0</td>\n",
       "      <td>573.0</td>\n",
       "    </tr>\n",
       "    <tr>\n",
       "      <th>2014</th>\n",
       "      <td>680.0</td>\n",
       "      <td>571.0</td>\n",
       "      <td>882.0</td>\n",
       "      <td>1088.0</td>\n",
       "      <td>1232.0</td>\n",
       "      <td>1219.0</td>\n",
       "      <td>1316.0</td>\n",
       "      <td>1173.0</td>\n",
       "      <td>1924.0</td>\n",
       "      <td>2137.0</td>\n",
       "      <td>1626.0</td>\n",
       "      <td>1703.0</td>\n",
       "    </tr>\n",
       "    <tr>\n",
       "      <th>2015</th>\n",
       "      <td>1605.0</td>\n",
       "      <td>1644.0</td>\n",
       "      <td>2272.0</td>\n",
       "      <td>2907.0</td>\n",
       "      <td>3643.0</td>\n",
       "      <td>3339.0</td>\n",
       "      <td>3317.0</td>\n",
       "      <td>2860.0</td>\n",
       "      <td>4358.0</td>\n",
       "      <td>5062.0</td>\n",
       "      <td>3813.0</td>\n",
       "      <td>3786.0</td>\n",
       "    </tr>\n",
       "    <tr>\n",
       "      <th>2016</th>\n",
       "      <td>3703.0</td>\n",
       "      <td>4123.0</td>\n",
       "      <td>4879.0</td>\n",
       "      <td>5742.0</td>\n",
       "      <td>7349.0</td>\n",
       "      <td>6392.0</td>\n",
       "      <td>6362.0</td>\n",
       "      <td>5618.0</td>\n",
       "      <td>8205.0</td>\n",
       "      <td>10142.0</td>\n",
       "      <td>7686.0</td>\n",
       "      <td>7019.0</td>\n",
       "    </tr>\n",
       "    <tr>\n",
       "      <th>2017</th>\n",
       "      <td>8022.0</td>\n",
       "      <td>8083.0</td>\n",
       "      <td>9565.0</td>\n",
       "      <td>13141.0</td>\n",
       "      <td>14522.0</td>\n",
       "      <td>14541.0</td>\n",
       "      <td>12348.0</td>\n",
       "      <td>9955.0</td>\n",
       "      <td>15809.0</td>\n",
       "      <td>16984.0</td>\n",
       "      <td>12524.0</td>\n",
       "      <td>12589.0</td>\n",
       "    </tr>\n",
       "    <tr>\n",
       "      <th>2018</th>\n",
       "      <td>13048.0</td>\n",
       "      <td>13431.0</td>\n",
       "      <td>15546.0</td>\n",
       "      <td>19811.0</td>\n",
       "      <td>21002.0</td>\n",
       "      <td>19174.0</td>\n",
       "      <td>20067.0</td>\n",
       "      <td>15133.0</td>\n",
       "      <td>21985.0</td>\n",
       "      <td>26474.0</td>\n",
       "      <td>20616.0</td>\n",
       "      <td>19767.0</td>\n",
       "    </tr>\n",
       "    <tr>\n",
       "      <th>2019</th>\n",
       "      <td>19508.0</td>\n",
       "      <td>19247.0</td>\n",
       "      <td>26387.0</td>\n",
       "      <td>27598.0</td>\n",
       "      <td>31189.0</td>\n",
       "      <td>34079.0</td>\n",
       "      <td>27547.0</td>\n",
       "      <td>22139.0</td>\n",
       "      <td>11324.0</td>\n",
       "      <td>0.0</td>\n",
       "      <td>0.0</td>\n",
       "      <td>0.0</td>\n",
       "    </tr>\n",
       "  </tbody>\n",
       "</table>\n",
       "</div>"
      ],
      "text/plain": [
       "month       1        2        3        4        5        6        7        8   \\\n",
       "year                                                                            \n",
       "2010       0.0      0.0      2.0      3.0      5.0      3.0      1.0      0.0   \n",
       "2011       2.0      5.0      6.0      4.0     24.0     35.0     51.0     32.0   \n",
       "2012      61.0     54.0     78.0    133.0    195.0    172.0    179.0    165.0   \n",
       "2013     205.0    202.0    301.0    434.0    551.0    536.0    529.0    408.0   \n",
       "2014     680.0    571.0    882.0   1088.0   1232.0   1219.0   1316.0   1173.0   \n",
       "2015    1605.0   1644.0   2272.0   2907.0   3643.0   3339.0   3317.0   2860.0   \n",
       "2016    3703.0   4123.0   4879.0   5742.0   7349.0   6392.0   6362.0   5618.0   \n",
       "2017    8022.0   8083.0   9565.0  13141.0  14522.0  14541.0  12348.0   9955.0   \n",
       "2018   13048.0  13431.0  15546.0  19811.0  21002.0  19174.0  20067.0  15133.0   \n",
       "2019   19508.0  19247.0  26387.0  27598.0  31189.0  34079.0  27547.0  22139.0   \n",
       "\n",
       "month       9        10       11       12  \n",
       "year                                       \n",
       "2010       5.0      5.0      6.0      2.0  \n",
       "2011      48.0     74.0     50.0     44.0  \n",
       "2012     233.0    296.0    225.0    180.0  \n",
       "2013     695.0    764.0    602.0    573.0  \n",
       "2014    1924.0   2137.0   1626.0   1703.0  \n",
       "2015    4358.0   5062.0   3813.0   3786.0  \n",
       "2016    8205.0  10142.0   7686.0   7019.0  \n",
       "2017   15809.0  16984.0  12524.0  12589.0  \n",
       "2018   21985.0  26474.0  20616.0  19767.0  \n",
       "2019   11324.0      0.0      0.0      0.0  "
      ]
     },
     "execution_count": 169,
     "metadata": {},
     "output_type": "execute_result"
    }
   ],
   "source": [
    "reviews.groupby(['year','month']).size().unstack('month').fillna(0)"
   ]
  },
  {
   "cell_type": "code",
   "execution_count": 170,
   "metadata": {},
   "outputs": [],
   "source": [
    "year_month_reviews = reviews.groupby(['year','month']).size().unstack('month').fillna(0)"
   ]
  },
  {
   "cell_type": "code",
   "execution_count": 171,
   "metadata": {
    "scrolled": true
   },
   "outputs": [
    {
     "name": "stdout",
     "output_type": "stream",
     "text": [
      "month\n",
      "1     0.0\n",
      "2     0.0\n",
      "3     2.0\n",
      "4     3.0\n",
      "5     5.0\n",
      "6     3.0\n",
      "7     1.0\n",
      "8     0.0\n",
      "9     5.0\n",
      "10    5.0\n",
      "11    6.0\n",
      "12    2.0\n",
      "Name: 2010, dtype: float64\n"
     ]
    }
   ],
   "source": [
    "for index in year_month_reviews.index:\n",
    "    series = year_month_reviews.loc[index]\n",
    "    print(series)\n",
    "    break\n",
    "# 2010年1月到12月的值"
   ]
  },
  {
   "cell_type": "code",
   "execution_count": 172,
   "metadata": {},
   "outputs": [
    {
     "data": {
      "image/png": "[encoded data removed]",
      "text/plain": [
       "<Figure size 720x360 with 1 Axes>"
      ]
     },
     "metadata": {
      "needs_background": "light"
     },
     "output_type": "display_data"
    }
   ],
   "source": [
    "#  X轴是月。年画线条\n",
    "fig,ax1 = plt.subplots(1,1,figsize=(10,5))\n",
    "# for循环所有索引\n",
    "for index in year_month_reviews.index:\n",
    "    series = year_month_reviews.loc[index]\n",
    "    sns.lineplot(x=series.index,y=series.values,ax=ax1)\n",
    "ax1.legend(labels=year_month_reviews.index)\n",
    "ax1.grid()\n",
    "x=ax1.set_xticks(list(range(1,13))) #X轴没有把所有的月份打印出来"
   ]
  },
  {
   "cell_type": "markdown",
   "metadata": {},
   "source": [
    "# 房屋价格预测——建模\n"
   ]
  },
  {
   "cell_type": "code",
   "execution_count": 173,
   "metadata": {
    "scrolled": true
   },
   "outputs": [
    {
     "data": {
      "text/html": [
       "<div>\n",
       "<style scoped>\n",
       "    .dataframe tbody tr th:only-of-type {\n",
       "        vertical-align: middle;\n",
       "    }\n",
       "\n",
       "    .dataframe tbody tr th {\n",
       "        vertical-align: top;\n",
       "    }\n",
       "\n",
       "    .dataframe thead th {\n",
       "        text-align: right;\n",
       "    }\n",
       "</style>\n",
       "<table border=\"1\" class=\"dataframe\">\n",
       "  <thead>\n",
       "    <tr style=\"text-align: right;\">\n",
       "      <th></th>\n",
       "      <th>listing_id</th>\n",
       "      <th>date</th>\n",
       "      <th>available</th>\n",
       "      <th>price</th>\n",
       "      <th>adjusted_price</th>\n",
       "      <th>minimum_nights</th>\n",
       "      <th>maximum_nights</th>\n",
       "      <th>weekday</th>\n",
       "      <th>month</th>\n",
       "    </tr>\n",
       "  </thead>\n",
       "  <tbody>\n",
       "    <tr>\n",
       "      <th>0</th>\n",
       "      <td>336834</td>\n",
       "      <td>2019-09-19</td>\n",
       "      <td>f</td>\n",
       "      <td>63.0</td>\n",
       "      <td>63.0</td>\n",
       "      <td>5</td>\n",
       "      <td>250</td>\n",
       "      <td>4</td>\n",
       "      <td>9</td>\n",
       "    </tr>\n",
       "    <tr>\n",
       "      <th>1</th>\n",
       "      <td>6369</td>\n",
       "      <td>2019-09-19</td>\n",
       "      <td>f</td>\n",
       "      <td>70.0</td>\n",
       "      <td>70.0</td>\n",
       "      <td>1</td>\n",
       "      <td>365</td>\n",
       "      <td>4</td>\n",
       "      <td>9</td>\n",
       "    </tr>\n",
       "    <tr>\n",
       "      <th>2</th>\n",
       "      <td>6369</td>\n",
       "      <td>2019-09-20</td>\n",
       "      <td>f</td>\n",
       "      <td>75.0</td>\n",
       "      <td>75.0</td>\n",
       "      <td>1</td>\n",
       "      <td>365</td>\n",
       "      <td>5</td>\n",
       "      <td>9</td>\n",
       "    </tr>\n",
       "    <tr>\n",
       "      <th>3</th>\n",
       "      <td>6369</td>\n",
       "      <td>2019-09-21</td>\n",
       "      <td>f</td>\n",
       "      <td>75.0</td>\n",
       "      <td>75.0</td>\n",
       "      <td>1</td>\n",
       "      <td>365</td>\n",
       "      <td>6</td>\n",
       "      <td>9</td>\n",
       "    </tr>\n",
       "    <tr>\n",
       "      <th>4</th>\n",
       "      <td>6369</td>\n",
       "      <td>2019-09-22</td>\n",
       "      <td>t</td>\n",
       "      <td>70.0</td>\n",
       "      <td>70.0</td>\n",
       "      <td>1</td>\n",
       "      <td>365</td>\n",
       "      <td>7</td>\n",
       "      <td>9</td>\n",
       "    </tr>\n",
       "  </tbody>\n",
       "</table>\n",
       "</div>"
      ],
      "text/plain": [
       "   listing_id       date available  price  adjusted_price  minimum_nights  \\\n",
       "0      336834 2019-09-19         f   63.0            63.0               5   \n",
       "1        6369 2019-09-19         f   70.0            70.0               1   \n",
       "2        6369 2019-09-20         f   75.0            75.0               1   \n",
       "3        6369 2019-09-21         f   75.0            75.0               1   \n",
       "4        6369 2019-09-22         t   70.0            70.0               1   \n",
       "\n",
       "   maximum_nights  weekday  month  \n",
       "0             250        4      9  \n",
       "1             365        4      9  \n",
       "2             365        5      9  \n",
       "3             365        6      9  \n",
       "4             365        7      9  "
      ]
     },
     "execution_count": 173,
     "metadata": {},
     "output_type": "execute_result"
    }
   ],
   "source": [
    "# calendar数据集里面包含价格字段， 但是少了\n",
    "calendar.head()"
   ]
  },
  {
   "cell_type": "code",
   "execution_count": 174,
   "metadata": {
    "cell_style": "center"
   },
   "outputs": [
    {
     "data": {
      "text/plain": [
       "['id',\n",
       " 'listing_url',\n",
       " 'scrape_id',\n",
       " 'last_scraped',\n",
       " 'name',\n",
       " 'summary',\n",
       " 'space',\n",
       " 'description',\n",
       " 'experiences_offered',\n",
       " 'neighborhood_overview',\n",
       " 'notes',\n",
       " 'transit',\n",
       " 'access',\n",
       " 'interaction',\n",
       " 'house_rules',\n",
       " 'thumbnail_url',\n",
       " 'medium_url',\n",
       " 'picture_url',\n",
       " 'xl_picture_url',\n",
       " 'host_id',\n",
       " 'host_url',\n",
       " 'host_name',\n",
       " 'host_since',\n",
       " 'host_location',\n",
       " 'host_about',\n",
       " 'host_response_time',\n",
       " 'host_response_rate',\n",
       " 'host_acceptance_rate',\n",
       " 'host_is_superhost',\n",
       " 'host_thumbnail_url',\n",
       " 'host_picture_url',\n",
       " 'host_neighbourhood',\n",
       " 'host_listings_count',\n",
       " 'host_total_listings_count',\n",
       " 'host_verifications',\n",
       " 'host_has_profile_pic',\n",
       " 'host_identity_verified',\n",
       " 'street',\n",
       " 'neighbourhood',\n",
       " 'neighbourhood_cleansed',\n",
       " 'neighbourhood_group_cleansed',\n",
       " 'city',\n",
       " 'state',\n",
       " 'zipcode',\n",
       " 'market',\n",
       " 'smart_location',\n",
       " 'country_code',\n",
       " 'country',\n",
       " 'latitude',\n",
       " 'longitude',\n",
       " 'is_location_exact',\n",
       " 'property_type',\n",
       " 'room_type',\n",
       " 'accommodates',\n",
       " 'bathrooms',\n",
       " 'bedrooms',\n",
       " 'beds',\n",
       " 'bed_type',\n",
       " 'amenities',\n",
       " 'square_feet',\n",
       " 'price',\n",
       " 'weekly_price',\n",
       " 'monthly_price',\n",
       " 'security_deposit',\n",
       " 'cleaning_fee',\n",
       " 'guests_included',\n",
       " 'extra_people',\n",
       " 'minimum_nights',\n",
       " 'maximum_nights',\n",
       " 'minimum_minimum_nights',\n",
       " 'maximum_minimum_nights',\n",
       " 'minimum_maximum_nights',\n",
       " 'maximum_maximum_nights',\n",
       " 'minimum_nights_avg_ntm',\n",
       " 'maximum_nights_avg_ntm',\n",
       " 'calendar_updated',\n",
       " 'has_availability',\n",
       " 'availability_30',\n",
       " 'availability_60',\n",
       " 'availability_90',\n",
       " 'availability_365',\n",
       " 'calendar_last_scraped',\n",
       " 'number_of_reviews',\n",
       " 'number_of_reviews_ltm',\n",
       " 'first_review',\n",
       " 'last_review',\n",
       " 'review_scores_rating',\n",
       " 'review_scores_accuracy',\n",
       " 'review_scores_cleanliness',\n",
       " 'review_scores_checkin',\n",
       " 'review_scores_communication',\n",
       " 'review_scores_location',\n",
       " 'review_scores_value',\n",
       " 'requires_license',\n",
       " 'license',\n",
       " 'jurisdiction_names',\n",
       " 'instant_bookable',\n",
       " 'is_business_travel_ready',\n",
       " 'cancellation_policy',\n",
       " 'require_guest_profile_picture',\n",
       " 'require_guest_phone_verification',\n",
       " 'calculated_host_listings_count',\n",
       " 'calculated_host_listings_count_entire_homes',\n",
       " 'calculated_host_listings_count_private_rooms',\n",
       " 'calculated_host_listings_count_shared_rooms',\n",
       " 'reviews_per_month',\n",
       " 'minimum_cost',\n",
       " 'minimum_cost_per_night',\n",
       " 'n_amenities',\n",
       " 'accommodates_type']"
      ]
     },
     "execution_count": 174,
     "metadata": {},
     "output_type": "execute_result"
    }
   ],
   "source": [
    "# 这里我们用listings_detailed 这个数据集 里面有很多对价格有影响的因素\n",
    "listings_detailed.columns.values.tolist()"
   ]
  },
  {
   "cell_type": "markdown",
   "metadata": {
    "cell_style": "center"
   },
   "source": [
    "## 提取与价格有关的字段\n"
   ]
  },
  {
   "cell_type": "code",
   "execution_count": 175,
   "metadata": {},
   "outputs": [
    {
     "data": {
      "text/plain": [
       "('price',)"
      ]
     },
     "execution_count": 175,
     "metadata": {},
     "output_type": "execute_result"
    }
   ],
   "source": [
    "'host_is_superhost', # 是否是超级房东，就相当于天猫优质商家，价格会更高点\n",
    "'host_identity_verified', # 房价是否经过认证\n",
    "'neighbourhood_group_cleansed', #社区\n",
    "'latitude', # 经度\n",
    "'longitude', #纬度\n",
    "'property_type',#房间类型\n",
    "'room_type',#私有还是公有空间\n",
    "'accommodates',#容纳人数\n",
    "'bathrooms',#浴室有多少个\n",
    "'bedrooms',#卧室多少个\n",
    "'cleaning_fee',# 小费\n",
    "'minimum_nights',#最少租多少晚\n",
    "'maximum_nights',#最多租多少晚\n",
    "'availability_90',#90天内多少天可用，90天内80天可用，说明没有租出去\n",
    "'number_of_reviews',# 评论数量，越多越火爆，价格可以上涨\n",
    "'review_scores_rating',# 评论评分\n",
    "'is_business_travel_ready', #是否为business_travel 做了准备 添加服务\n",
    "'n_amenities',#设施数量\n",
    "'price',#价格"
   ]
  },
  {
   "cell_type": "code",
   "execution_count": 176,
   "metadata": {},
   "outputs": [],
   "source": [
    "ml_listings=listings_detailed[listings_detailed['price']<300][[ #小于300美元以下的 取一些有意义的数据\n",
    "    'host_is_superhost', # 是否是超级房东，就相当于天猫优质商家，价格会更高点\n",
    "    'host_identity_verified', # 房价是否经过认证\n",
    "    'neighbourhood_group_cleansed', #社区\n",
    "    'latitude', # 经度\n",
    "    'longitude', #纬度\n",
    "    'property_type',#房间类型\n",
    "    'room_type',#私有还是公有空间\n",
    "    'accommodates',#容纳人数\n",
    "    'bathrooms',#浴室有多少个\n",
    "    'bedrooms',#卧室多少个\n",
    "    'cleaning_fee',# 小费\n",
    "    'minimum_nights',#最少租多少晚\n",
    "    'maximum_nights',#最多租多少晚\n",
    "    'availability_90',#90天内多少天可用，90天内80天可用，说明没有租出去\n",
    "    'number_of_reviews',# 评论数量，越多越火爆，价格可以上涨\n",
    " #   'review_scores_rating',# 评论评分 #这一条有5k条数据用不了 所以不考虑这一条数据了\n",
    "    'is_business_travel_ready', #是否为business_travel 做了准备 添加服务\n",
    "    'n_amenities',#设施数量\n",
    "    'price',#价格\n",
    "]]"
   ]
  },
  {
   "cell_type": "code",
   "execution_count": 177,
   "metadata": {},
   "outputs": [
    {
     "name": "stdout",
     "output_type": "stream",
     "text": [
      "<class 'pandas.core.frame.DataFrame'>\n",
      "Int64Index: 19305 entries, 0 to 20836\n",
      "Data columns (total 18 columns):\n",
      " #   Column                        Non-Null Count  Dtype  \n",
      "---  ------                        --------------  -----  \n",
      " 0   host_is_superhost             19290 non-null  object \n",
      " 1   host_identity_verified        19290 non-null  object \n",
      " 2   neighbourhood_group_cleansed  19305 non-null  object \n",
      " 3   latitude                      19305 non-null  float64\n",
      " 4   longitude                     19305 non-null  float64\n",
      " 5   property_type                 19305 non-null  object \n",
      " 6   room_type                     19305 non-null  object \n",
      " 7   accommodates                  19305 non-null  int64  \n",
      " 8   bathrooms                     19296 non-null  float64\n",
      " 9   bedrooms                      19296 non-null  float64\n",
      " 10  cleaning_fee                  19305 non-null  float32\n",
      " 11  minimum_nights                19305 non-null  int64  \n",
      " 12  maximum_nights                19305 non-null  int64  \n",
      " 13  availability_90               19305 non-null  int64  \n",
      " 14  number_of_reviews             19305 non-null  int64  \n",
      " 15  is_business_travel_ready      19305 non-null  object \n",
      " 16  n_amenities                   19305 non-null  int64  \n",
      " 17  price                         19305 non-null  float32\n",
      "dtypes: float32(2), float64(4), int64(6), object(6)\n",
      "memory usage: 2.7+ MB\n"
     ]
    }
   ],
   "source": [
    "ml_listings.info()\n",
    "# 能看到此时有空值，但是空值不多我们删去，按照行的方式"
   ]
  },
  {
   "cell_type": "code",
   "execution_count": 178,
   "metadata": {
    "scrolled": true
   },
   "outputs": [
    {
     "name": "stdout",
     "output_type": "stream",
     "text": [
      "<class 'pandas.core.frame.DataFrame'>\n",
      "Int64Index: 19273 entries, 0 to 20836\n",
      "Data columns (total 18 columns):\n",
      " #   Column                        Non-Null Count  Dtype  \n",
      "---  ------                        --------------  -----  \n",
      " 0   host_is_superhost             19273 non-null  object \n",
      " 1   host_identity_verified        19273 non-null  object \n",
      " 2   neighbourhood_group_cleansed  19273 non-null  object \n",
      " 3   latitude                      19273 non-null  float64\n",
      " 4   longitude                     19273 non-null  float64\n",
      " 5   property_type                 19273 non-null  object \n",
      " 6   room_type                     19273 non-null  object \n",
      " 7   accommodates                  19273 non-null  int64  \n",
      " 8   bathrooms                     19273 non-null  float64\n",
      " 9   bedrooms                      19273 non-null  float64\n",
      " 10  cleaning_fee                  19273 non-null  float32\n",
      " 11  minimum_nights                19273 non-null  int64  \n",
      " 12  maximum_nights                19273 non-null  int64  \n",
      " 13  availability_90               19273 non-null  int64  \n",
      " 14  number_of_reviews             19273 non-null  int64  \n",
      " 15  is_business_travel_ready      19273 non-null  object \n",
      " 16  n_amenities                   19273 non-null  int64  \n",
      " 17  price                         19273 non-null  float32\n",
      "dtypes: float32(2), float64(4), int64(6), object(6)\n",
      "memory usage: 2.6+ MB\n"
     ]
    }
   ],
   "source": [
    "# 删除特征值\n",
    "ml_listings.dropna(axis=0,inplace=True)\n",
    "ml_listings.info()"
   ]
  },
  {
   "cell_type": "code",
   "execution_count": 179,
   "metadata": {},
   "outputs": [],
   "source": [
    "# 分割特征值和目标值\n",
    "features=ml_listings.drop(columns=['price'])\n",
    "targets=ml_listings['price']"
   ]
  },
  {
   "cell_type": "code",
   "execution_count": 180,
   "metadata": {},
   "outputs": [
    {
     "data": {
      "text/html": [
       "<div>\n",
       "<style scoped>\n",
       "    .dataframe tbody tr th:only-of-type {\n",
       "        vertical-align: middle;\n",
       "    }\n",
       "\n",
       "    .dataframe tbody tr th {\n",
       "        vertical-align: top;\n",
       "    }\n",
       "\n",
       "    .dataframe thead th {\n",
       "        text-align: right;\n",
       "    }\n",
       "</style>\n",
       "<table border=\"1\" class=\"dataframe\">\n",
       "  <thead>\n",
       "    <tr style=\"text-align: right;\">\n",
       "      <th></th>\n",
       "      <th>host_is_superhost</th>\n",
       "      <th>host_identity_verified</th>\n",
       "      <th>neighbourhood_group_cleansed</th>\n",
       "      <th>latitude</th>\n",
       "      <th>longitude</th>\n",
       "      <th>property_type</th>\n",
       "      <th>room_type</th>\n",
       "      <th>accommodates</th>\n",
       "      <th>bathrooms</th>\n",
       "      <th>bedrooms</th>\n",
       "      <th>cleaning_fee</th>\n",
       "      <th>minimum_nights</th>\n",
       "      <th>maximum_nights</th>\n",
       "      <th>availability_90</th>\n",
       "      <th>number_of_reviews</th>\n",
       "      <th>is_business_travel_ready</th>\n",
       "      <th>n_amenities</th>\n",
       "    </tr>\n",
       "  </thead>\n",
       "  <tbody>\n",
       "    <tr>\n",
       "      <th>0</th>\n",
       "      <td>f</td>\n",
       "      <td>f</td>\n",
       "      <td>Chamartín</td>\n",
       "      <td>40.45628</td>\n",
       "      <td>-3.67763</td>\n",
       "      <td>Apartment</td>\n",
       "      <td>Private room</td>\n",
       "      <td>2</td>\n",
       "      <td>1.0</td>\n",
       "      <td>1.0</td>\n",
       "      <td>5.0</td>\n",
       "      <td>1</td>\n",
       "      <td>365</td>\n",
       "      <td>53</td>\n",
       "      <td>65</td>\n",
       "      <td>f</td>\n",
       "      <td>16</td>\n",
       "    </tr>\n",
       "    <tr>\n",
       "      <th>1</th>\n",
       "      <td>f</td>\n",
       "      <td>t</td>\n",
       "      <td>Latina</td>\n",
       "      <td>40.40341</td>\n",
       "      <td>-3.74084</td>\n",
       "      <td>Apartment</td>\n",
       "      <td>Private room</td>\n",
       "      <td>1</td>\n",
       "      <td>1.0</td>\n",
       "      <td>1.0</td>\n",
       "      <td>0.0</td>\n",
       "      <td>4</td>\n",
       "      <td>40</td>\n",
       "      <td>0</td>\n",
       "      <td>33</td>\n",
       "      <td>f</td>\n",
       "      <td>31</td>\n",
       "    </tr>\n",
       "    <tr>\n",
       "      <th>2</th>\n",
       "      <td>f</td>\n",
       "      <td>t</td>\n",
       "      <td>Centro</td>\n",
       "      <td>40.42202</td>\n",
       "      <td>-3.70395</td>\n",
       "      <td>Apartment</td>\n",
       "      <td>Entire home/apt</td>\n",
       "      <td>3</td>\n",
       "      <td>1.0</td>\n",
       "      <td>0.0</td>\n",
       "      <td>30.0</td>\n",
       "      <td>5</td>\n",
       "      <td>730</td>\n",
       "      <td>79</td>\n",
       "      <td>2</td>\n",
       "      <td>f</td>\n",
       "      <td>32</td>\n",
       "    </tr>\n",
       "    <tr>\n",
       "      <th>3</th>\n",
       "      <td>t</td>\n",
       "      <td>f</td>\n",
       "      <td>Centro</td>\n",
       "      <td>40.41995</td>\n",
       "      <td>-3.69764</td>\n",
       "      <td>Apartment</td>\n",
       "      <td>Entire home/apt</td>\n",
       "      <td>4</td>\n",
       "      <td>1.5</td>\n",
       "      <td>2.0</td>\n",
       "      <td>0.0</td>\n",
       "      <td>3</td>\n",
       "      <td>1125</td>\n",
       "      <td>48</td>\n",
       "      <td>64</td>\n",
       "      <td>f</td>\n",
       "      <td>18</td>\n",
       "    </tr>\n",
       "    <tr>\n",
       "      <th>4</th>\n",
       "      <td>f</td>\n",
       "      <td>t</td>\n",
       "      <td>Arganzuela</td>\n",
       "      <td>40.38985</td>\n",
       "      <td>-3.69011</td>\n",
       "      <td>House</td>\n",
       "      <td>Private room</td>\n",
       "      <td>1</td>\n",
       "      <td>1.0</td>\n",
       "      <td>1.0</td>\n",
       "      <td>15.0</td>\n",
       "      <td>2</td>\n",
       "      <td>365</td>\n",
       "      <td>70</td>\n",
       "      <td>136</td>\n",
       "      <td>f</td>\n",
       "      <td>16</td>\n",
       "    </tr>\n",
       "  </tbody>\n",
       "</table>\n",
       "</div>"
      ],
      "text/plain": [
       "  host_is_superhost host_identity_verified neighbourhood_group_cleansed  \\\n",
       "0                 f                      f                    Chamartín   \n",
       "1                 f                      t                       Latina   \n",
       "2                 f                      t                       Centro   \n",
       "3                 t                      f                       Centro   \n",
       "4                 f                      t                   Arganzuela   \n",
       "\n",
       "   latitude  longitude property_type        room_type  accommodates  \\\n",
       "0  40.45628   -3.67763     Apartment     Private room             2   \n",
       "1  40.40341   -3.74084     Apartment     Private room             1   \n",
       "2  40.42202   -3.70395     Apartment  Entire home/apt             3   \n",
       "3  40.41995   -3.69764     Apartment  Entire home/apt             4   \n",
       "4  40.38985   -3.69011         House     Private room             1   \n",
       "\n",
       "   bathrooms  bedrooms  cleaning_fee  minimum_nights  maximum_nights  \\\n",
       "0        1.0       1.0           5.0               1             365   \n",
       "1        1.0       1.0           0.0               4              40   \n",
       "2        1.0       0.0          30.0               5             730   \n",
       "3        1.5       2.0           0.0               3            1125   \n",
       "4        1.0       1.0          15.0               2             365   \n",
       "\n",
       "   availability_90  number_of_reviews is_business_travel_ready  n_amenities  \n",
       "0               53                 65                        f           16  \n",
       "1                0                 33                        f           31  \n",
       "2               79                  2                        f           32  \n",
       "3               48                 64                        f           18  \n",
       "4               70                136                        f           16  "
      ]
     },
     "execution_count": 180,
     "metadata": {},
     "output_type": "execute_result"
    }
   ],
   "source": [
    "# 分割完特征值和目标值之后不能够直接放到算法里面建模\n",
    "# 因为特征值\n",
    "features.head()\n",
    "# 数据类型复杂，有字符串类型，数字类型，放到算法之前是必须要处于数值类型  非数值类型需要转换"
   ]
  },
  {
   "cell_type": "markdown",
   "metadata": {},
   "source": [
    "## 处理特征值"
   ]
  },
  {
   "cell_type": "markdown",
   "metadata": {},
   "source": [
    "### 针对字符串类型(离散型数据)进行one-hot类型编码\n",
    "\n",
    "比如只有f、t 转化成一个为1 一个为0\n",
    "\n",
    "字符串类型可以看成离散型数据"
   ]
  },
  {
   "cell_type": "code",
   "execution_count": 181,
   "metadata": {},
   "outputs": [],
   "source": [
    "disperse_columns=[\n",
    "    'host_is_superhost', # 是否是超级房东，就相当于天猫优质商家，价格会更高点\n",
    "    'host_identity_verified', # 房价是否经过认证\n",
    "    'neighbourhood_group_cleansed', #社区\n",
    "    'property_type',#房间类型\n",
    "    'room_type',#私有还是公有空间\n",
    "    'is_business_travel_ready'#是否为business_travel 做了准备 添加服务  \n",
    "]\n",
    "# 获取离散型特征\n",
    "disperse_features=features[disperse_columns]"
   ]
  },
  {
   "cell_type": "code",
   "execution_count": 182,
   "metadata": {},
   "outputs": [
    {
     "data": {
      "text/html": [
       "<div>\n",
       "<style scoped>\n",
       "    .dataframe tbody tr th:only-of-type {\n",
       "        vertical-align: middle;\n",
       "    }\n",
       "\n",
       "    .dataframe tbody tr th {\n",
       "        vertical-align: top;\n",
       "    }\n",
       "\n",
       "    .dataframe thead th {\n",
       "        text-align: right;\n",
       "    }\n",
       "</style>\n",
       "<table border=\"1\" class=\"dataframe\">\n",
       "  <thead>\n",
       "    <tr style=\"text-align: right;\">\n",
       "      <th></th>\n",
       "      <th>host_is_superhost_f</th>\n",
       "      <th>host_is_superhost_t</th>\n",
       "      <th>host_identity_verified_f</th>\n",
       "      <th>host_identity_verified_t</th>\n",
       "      <th>neighbourhood_group_cleansed_Arganzuela</th>\n",
       "      <th>neighbourhood_group_cleansed_Barajas</th>\n",
       "      <th>neighbourhood_group_cleansed_Carabanchel</th>\n",
       "      <th>neighbourhood_group_cleansed_Centro</th>\n",
       "      <th>neighbourhood_group_cleansed_Chamartín</th>\n",
       "      <th>neighbourhood_group_cleansed_Chamberí</th>\n",
       "      <th>...</th>\n",
       "      <th>property_type_Serviced apartment</th>\n",
       "      <th>property_type_Tent</th>\n",
       "      <th>property_type_Tiny house</th>\n",
       "      <th>property_type_Townhouse</th>\n",
       "      <th>property_type_Villa</th>\n",
       "      <th>room_type_Entire home/apt</th>\n",
       "      <th>room_type_Hotel room</th>\n",
       "      <th>room_type_Private room</th>\n",
       "      <th>room_type_Shared room</th>\n",
       "      <th>is_business_travel_ready_f</th>\n",
       "    </tr>\n",
       "  </thead>\n",
       "  <tbody>\n",
       "    <tr>\n",
       "      <th>0</th>\n",
       "      <td>1</td>\n",
       "      <td>0</td>\n",
       "      <td>1</td>\n",
       "      <td>0</td>\n",
       "      <td>0</td>\n",
       "      <td>0</td>\n",
       "      <td>0</td>\n",
       "      <td>0</td>\n",
       "      <td>1</td>\n",
       "      <td>0</td>\n",
       "      <td>...</td>\n",
       "      <td>0</td>\n",
       "      <td>0</td>\n",
       "      <td>0</td>\n",
       "      <td>0</td>\n",
       "      <td>0</td>\n",
       "      <td>0</td>\n",
       "      <td>0</td>\n",
       "      <td>1</td>\n",
       "      <td>0</td>\n",
       "      <td>1</td>\n",
       "    </tr>\n",
       "    <tr>\n",
       "      <th>1</th>\n",
       "      <td>1</td>\n",
       "      <td>0</td>\n",
       "      <td>0</td>\n",
       "      <td>1</td>\n",
       "      <td>0</td>\n",
       "      <td>0</td>\n",
       "      <td>0</td>\n",
       "      <td>0</td>\n",
       "      <td>0</td>\n",
       "      <td>0</td>\n",
       "      <td>...</td>\n",
       "      <td>0</td>\n",
       "      <td>0</td>\n",
       "      <td>0</td>\n",
       "      <td>0</td>\n",
       "      <td>0</td>\n",
       "      <td>0</td>\n",
       "      <td>0</td>\n",
       "      <td>1</td>\n",
       "      <td>0</td>\n",
       "      <td>1</td>\n",
       "    </tr>\n",
       "    <tr>\n",
       "      <th>2</th>\n",
       "      <td>1</td>\n",
       "      <td>0</td>\n",
       "      <td>0</td>\n",
       "      <td>1</td>\n",
       "      <td>0</td>\n",
       "      <td>0</td>\n",
       "      <td>0</td>\n",
       "      <td>1</td>\n",
       "      <td>0</td>\n",
       "      <td>0</td>\n",
       "      <td>...</td>\n",
       "      <td>0</td>\n",
       "      <td>0</td>\n",
       "      <td>0</td>\n",
       "      <td>0</td>\n",
       "      <td>0</td>\n",
       "      <td>1</td>\n",
       "      <td>0</td>\n",
       "      <td>0</td>\n",
       "      <td>0</td>\n",
       "      <td>1</td>\n",
       "    </tr>\n",
       "    <tr>\n",
       "      <th>3</th>\n",
       "      <td>0</td>\n",
       "      <td>1</td>\n",
       "      <td>1</td>\n",
       "      <td>0</td>\n",
       "      <td>0</td>\n",
       "      <td>0</td>\n",
       "      <td>0</td>\n",
       "      <td>1</td>\n",
       "      <td>0</td>\n",
       "      <td>0</td>\n",
       "      <td>...</td>\n",
       "      <td>0</td>\n",
       "      <td>0</td>\n",
       "      <td>0</td>\n",
       "      <td>0</td>\n",
       "      <td>0</td>\n",
       "      <td>1</td>\n",
       "      <td>0</td>\n",
       "      <td>0</td>\n",
       "      <td>0</td>\n",
       "      <td>1</td>\n",
       "    </tr>\n",
       "    <tr>\n",
       "      <th>4</th>\n",
       "      <td>1</td>\n",
       "      <td>0</td>\n",
       "      <td>0</td>\n",
       "      <td>1</td>\n",
       "      <td>1</td>\n",
       "      <td>0</td>\n",
       "      <td>0</td>\n",
       "      <td>0</td>\n",
       "      <td>0</td>\n",
       "      <td>0</td>\n",
       "      <td>...</td>\n",
       "      <td>0</td>\n",
       "      <td>0</td>\n",
       "      <td>0</td>\n",
       "      <td>0</td>\n",
       "      <td>0</td>\n",
       "      <td>0</td>\n",
       "      <td>0</td>\n",
       "      <td>1</td>\n",
       "      <td>0</td>\n",
       "      <td>1</td>\n",
       "    </tr>\n",
       "    <tr>\n",
       "      <th>...</th>\n",
       "      <td>...</td>\n",
       "      <td>...</td>\n",
       "      <td>...</td>\n",
       "      <td>...</td>\n",
       "      <td>...</td>\n",
       "      <td>...</td>\n",
       "      <td>...</td>\n",
       "      <td>...</td>\n",
       "      <td>...</td>\n",
       "      <td>...</td>\n",
       "      <td>...</td>\n",
       "      <td>...</td>\n",
       "      <td>...</td>\n",
       "      <td>...</td>\n",
       "      <td>...</td>\n",
       "      <td>...</td>\n",
       "      <td>...</td>\n",
       "      <td>...</td>\n",
       "      <td>...</td>\n",
       "      <td>...</td>\n",
       "      <td>...</td>\n",
       "    </tr>\n",
       "    <tr>\n",
       "      <th>20832</th>\n",
       "      <td>1</td>\n",
       "      <td>0</td>\n",
       "      <td>1</td>\n",
       "      <td>0</td>\n",
       "      <td>0</td>\n",
       "      <td>0</td>\n",
       "      <td>0</td>\n",
       "      <td>0</td>\n",
       "      <td>1</td>\n",
       "      <td>0</td>\n",
       "      <td>...</td>\n",
       "      <td>0</td>\n",
       "      <td>0</td>\n",
       "      <td>0</td>\n",
       "      <td>0</td>\n",
       "      <td>0</td>\n",
       "      <td>1</td>\n",
       "      <td>0</td>\n",
       "      <td>0</td>\n",
       "      <td>0</td>\n",
       "      <td>1</td>\n",
       "    </tr>\n",
       "    <tr>\n",
       "      <th>20833</th>\n",
       "      <td>1</td>\n",
       "      <td>0</td>\n",
       "      <td>1</td>\n",
       "      <td>0</td>\n",
       "      <td>0</td>\n",
       "      <td>0</td>\n",
       "      <td>0</td>\n",
       "      <td>0</td>\n",
       "      <td>0</td>\n",
       "      <td>0</td>\n",
       "      <td>...</td>\n",
       "      <td>0</td>\n",
       "      <td>0</td>\n",
       "      <td>0</td>\n",
       "      <td>0</td>\n",
       "      <td>0</td>\n",
       "      <td>0</td>\n",
       "      <td>0</td>\n",
       "      <td>1</td>\n",
       "      <td>0</td>\n",
       "      <td>1</td>\n",
       "    </tr>\n",
       "    <tr>\n",
       "      <th>20834</th>\n",
       "      <td>0</td>\n",
       "      <td>1</td>\n",
       "      <td>1</td>\n",
       "      <td>0</td>\n",
       "      <td>0</td>\n",
       "      <td>0</td>\n",
       "      <td>0</td>\n",
       "      <td>1</td>\n",
       "      <td>0</td>\n",
       "      <td>0</td>\n",
       "      <td>...</td>\n",
       "      <td>0</td>\n",
       "      <td>0</td>\n",
       "      <td>0</td>\n",
       "      <td>0</td>\n",
       "      <td>0</td>\n",
       "      <td>1</td>\n",
       "      <td>0</td>\n",
       "      <td>0</td>\n",
       "      <td>0</td>\n",
       "      <td>1</td>\n",
       "    </tr>\n",
       "    <tr>\n",
       "      <th>20835</th>\n",
       "      <td>1</td>\n",
       "      <td>0</td>\n",
       "      <td>0</td>\n",
       "      <td>1</td>\n",
       "      <td>0</td>\n",
       "      <td>0</td>\n",
       "      <td>0</td>\n",
       "      <td>1</td>\n",
       "      <td>0</td>\n",
       "      <td>0</td>\n",
       "      <td>...</td>\n",
       "      <td>0</td>\n",
       "      <td>0</td>\n",
       "      <td>0</td>\n",
       "      <td>0</td>\n",
       "      <td>0</td>\n",
       "      <td>1</td>\n",
       "      <td>0</td>\n",
       "      <td>0</td>\n",
       "      <td>0</td>\n",
       "      <td>1</td>\n",
       "    </tr>\n",
       "    <tr>\n",
       "      <th>20836</th>\n",
       "      <td>1</td>\n",
       "      <td>0</td>\n",
       "      <td>0</td>\n",
       "      <td>1</td>\n",
       "      <td>0</td>\n",
       "      <td>0</td>\n",
       "      <td>0</td>\n",
       "      <td>1</td>\n",
       "      <td>0</td>\n",
       "      <td>0</td>\n",
       "      <td>...</td>\n",
       "      <td>0</td>\n",
       "      <td>0</td>\n",
       "      <td>0</td>\n",
       "      <td>0</td>\n",
       "      <td>0</td>\n",
       "      <td>0</td>\n",
       "      <td>0</td>\n",
       "      <td>1</td>\n",
       "      <td>0</td>\n",
       "      <td>1</td>\n",
       "    </tr>\n",
       "  </tbody>\n",
       "</table>\n",
       "<p>19273 rows × 55 columns</p>\n",
       "</div>"
      ],
      "text/plain": [
       "       host_is_superhost_f  host_is_superhost_t  host_identity_verified_f  \\\n",
       "0                        1                    0                         1   \n",
       "1                        1                    0                         0   \n",
       "2                        1                    0                         0   \n",
       "3                        0                    1                         1   \n",
       "4                        1                    0                         0   \n",
       "...                    ...                  ...                       ...   \n",
       "20832                    1                    0                         1   \n",
       "20833                    1                    0                         1   \n",
       "20834                    0                    1                         1   \n",
       "20835                    1                    0                         0   \n",
       "20836                    1                    0                         0   \n",
       "\n",
       "       host_identity_verified_t  neighbourhood_group_cleansed_Arganzuela  \\\n",
       "0                             0                                        0   \n",
       "1                             1                                        0   \n",
       "2                             1                                        0   \n",
       "3                             0                                        0   \n",
       "4                             1                                        1   \n",
       "...                         ...                                      ...   \n",
       "20832                         0                                        0   \n",
       "20833                         0                                        0   \n",
       "20834                         0                                        0   \n",
       "20835                         1                                        0   \n",
       "20836                         1                                        0   \n",
       "\n",
       "       neighbourhood_group_cleansed_Barajas  \\\n",
       "0                                         0   \n",
       "1                                         0   \n",
       "2                                         0   \n",
       "3                                         0   \n",
       "4                                         0   \n",
       "...                                     ...   \n",
       "20832                                     0   \n",
       "20833                                     0   \n",
       "20834                                     0   \n",
       "20835                                     0   \n",
       "20836                                     0   \n",
       "\n",
       "       neighbourhood_group_cleansed_Carabanchel  \\\n",
       "0                                             0   \n",
       "1                                             0   \n",
       "2                                             0   \n",
       "3                                             0   \n",
       "4                                             0   \n",
       "...                                         ...   \n",
       "20832                                         0   \n",
       "20833                                         0   \n",
       "20834                                         0   \n",
       "20835                                         0   \n",
       "20836                                         0   \n",
       "\n",
       "       neighbourhood_group_cleansed_Centro  \\\n",
       "0                                        0   \n",
       "1                                        0   \n",
       "2                                        1   \n",
       "3                                        1   \n",
       "4                                        0   \n",
       "...                                    ...   \n",
       "20832                                    0   \n",
       "20833                                    0   \n",
       "20834                                    1   \n",
       "20835                                    1   \n",
       "20836                                    1   \n",
       "\n",
       "       neighbourhood_group_cleansed_Chamartín  \\\n",
       "0                                           1   \n",
       "1                                           0   \n",
       "2                                           0   \n",
       "3                                           0   \n",
       "4                                           0   \n",
       "...                                       ...   \n",
       "20832                                       1   \n",
       "20833                                       0   \n",
       "20834                                       0   \n",
       "20835                                       0   \n",
       "20836                                       0   \n",
       "\n",
       "       neighbourhood_group_cleansed_Chamberí  ...  \\\n",
       "0                                          0  ...   \n",
       "1                                          0  ...   \n",
       "2                                          0  ...   \n",
       "3                                          0  ...   \n",
       "4                                          0  ...   \n",
       "...                                      ...  ...   \n",
       "20832                                      0  ...   \n",
       "20833                                      0  ...   \n",
       "20834                                      0  ...   \n",
       "20835                                      0  ...   \n",
       "20836                                      0  ...   \n",
       "\n",
       "       property_type_Serviced apartment  property_type_Tent  \\\n",
       "0                                     0                   0   \n",
       "1                                     0                   0   \n",
       "2                                     0                   0   \n",
       "3                                     0                   0   \n",
       "4                                     0                   0   \n",
       "...                                 ...                 ...   \n",
       "20832                                 0                   0   \n",
       "20833                                 0                   0   \n",
       "20834                                 0                   0   \n",
       "20835                                 0                   0   \n",
       "20836                                 0                   0   \n",
       "\n",
       "       property_type_Tiny house  property_type_Townhouse  property_type_Villa  \\\n",
       "0                             0                        0                    0   \n",
       "1                             0                        0                    0   \n",
       "2                             0                        0                    0   \n",
       "3                             0                        0                    0   \n",
       "4                             0                        0                    0   \n",
       "...                         ...                      ...                  ...   \n",
       "20832                         0                        0                    0   \n",
       "20833                         0                        0                    0   \n",
       "20834                         0                        0                    0   \n",
       "20835                         0                        0                    0   \n",
       "20836                         0                        0                    0   \n",
       "\n",
       "       room_type_Entire home/apt  room_type_Hotel room  \\\n",
       "0                              0                     0   \n",
       "1                              0                     0   \n",
       "2                              1                     0   \n",
       "3                              1                     0   \n",
       "4                              0                     0   \n",
       "...                          ...                   ...   \n",
       "20832                          1                     0   \n",
       "20833                          0                     0   \n",
       "20834                          1                     0   \n",
       "20835                          1                     0   \n",
       "20836                          0                     0   \n",
       "\n",
       "       room_type_Private room  room_type_Shared room  \\\n",
       "0                           1                      0   \n",
       "1                           1                      0   \n",
       "2                           0                      0   \n",
       "3                           0                      0   \n",
       "4                           1                      0   \n",
       "...                       ...                    ...   \n",
       "20832                       0                      0   \n",
       "20833                       1                      0   \n",
       "20834                       0                      0   \n",
       "20835                       0                      0   \n",
       "20836                       1                      0   \n",
       "\n",
       "       is_business_travel_ready_f  \n",
       "0                               1  \n",
       "1                               1  \n",
       "2                               1  \n",
       "3                               1  \n",
       "4                               1  \n",
       "...                           ...  \n",
       "20832                           1  \n",
       "20833                           1  \n",
       "20834                           1  \n",
       "20835                           1  \n",
       "20836                           1  \n",
       "\n",
       "[19273 rows x 55 columns]"
      ]
     },
     "execution_count": 182,
     "metadata": {},
     "output_type": "execute_result"
    }
   ],
   "source": [
    "# 进行one-hot类型编码\n",
    "pd.get_dummies(disperse_features)"
   ]
  },
  {
   "cell_type": "code",
   "execution_count": 183,
   "metadata": {},
   "outputs": [],
   "source": [
    "disperse_features=pd.get_dummies(disperse_features)"
   ]
  },
  {
   "cell_type": "markdown",
   "metadata": {},
   "source": [
    "### 对连续型数据进行标准化\n",
    "\n",
    "(因为特征值之间相差并不是很大，所以标准化可能对预测结果影响很大)"
   ]
  },
  {
   "cell_type": "code",
   "execution_count": 184,
   "metadata": {},
   "outputs": [],
   "source": [
    "from sklearn.preprocessing import StandardScaler"
   ]
  },
  {
   "cell_type": "code",
   "execution_count": 185,
   "metadata": {},
   "outputs": [
    {
     "data": {
      "text/plain": [
       "array([[ 1.67418935,  0.6777749 , -0.63942081, ...,  0.53352263,\n",
       "         0.43395151, -0.48711703],\n",
       "       [-0.77139864, -1.71757057, -1.15800175, ..., -1.19553609,\n",
       "        -0.07162695,  0.86348381],\n",
       "       [ 0.08943723, -0.31962255, -0.12083988, ...,  1.38174012,\n",
       "        -0.56140608,  0.95352387],\n",
       "       ...,\n",
       "       [ 0.0801859 , -0.29726448,  0.39774106, ...,  1.18599762,\n",
       "        -0.59300473, -0.03691675],\n",
       "       [-0.51467435, -0.21048484, -0.63942081, ..., -0.7388036 ,\n",
       "        -0.59300473, -0.93731731],\n",
       "       [-0.01649045, -0.04336771, -0.63942081, ..., -0.96716984,\n",
       "        -0.59300473,  0.05312331]])"
      ]
     },
     "execution_count": 185,
     "metadata": {},
     "output_type": "execute_result"
    }
   ],
   "source": [
    "continuouse_features=features.drop(columns=disperse_columns) #把离散型的数据删掉就剩下连续型的了\n",
    "scaler = StandardScaler()\n",
    "continuouse_features=scaler.fit_transform(continuouse_features)\n",
    "continuouse_features"
   ]
  },
  {
   "cell_type": "markdown",
   "metadata": {},
   "source": [
    "### 对处理后的特征进行组合"
   ]
  },
  {
   "cell_type": "code",
   "execution_count": 186,
   "metadata": {
    "scrolled": true
   },
   "outputs": [
    {
     "data": {
      "text/plain": [
       "array([[ 1.        ,  0.        ,  1.        , ...,  0.53352263,\n",
       "         0.43395151, -0.48711703],\n",
       "       [ 1.        ,  0.        ,  0.        , ..., -1.19553609,\n",
       "        -0.07162695,  0.86348381],\n",
       "       [ 1.        ,  0.        ,  0.        , ...,  1.38174012,\n",
       "        -0.56140608,  0.95352387],\n",
       "       ...,\n",
       "       [ 0.        ,  1.        ,  1.        , ...,  1.18599762,\n",
       "        -0.59300473, -0.03691675],\n",
       "       [ 1.        ,  0.        ,  0.        , ..., -0.7388036 ,\n",
       "        -0.59300473, -0.93731731],\n",
       "       [ 1.        ,  0.        ,  0.        , ..., -0.96716984,\n",
       "        -0.59300473,  0.05312331]])"
      ]
     },
     "execution_count": 186,
     "metadata": {},
     "output_type": "execute_result"
    }
   ],
   "source": [
    "# 使用np进行堆叠\n",
    "feature_array=np.hstack([disperse_features,continuouse_features])\n",
    "feature_array"
   ]
  },
  {
   "cell_type": "markdown",
   "metadata": {},
   "source": [
    "## 建模\n",
    "\n",
    "切割完成后不太好直接放进算法处理，还需要对这之后的数据进行组合。水平方向合在一起。列数增加，行数不变。"
   ]
  },
  {
   "cell_type": "code",
   "execution_count": 187,
   "metadata": {},
   "outputs": [],
   "source": [
    "from sklearn.model_selection import train_test_split\n",
    "# 切分数据\n",
    "X_train,X_test,y_train,y_test = train_test_split(feature_array,targets,test_size=0.25)\n",
    "from sklearn.linear_model import LinearRegression\n",
    "#调用线性回归算法\n",
    "regressor=LinearRegression()\n",
    "regressor.fit(X_train,y_train)\n",
    "y_predict = regressor.predict(X_test)\n",
    "# 评分 调用绝对误差，均方误差   r2也是一个评判标准 这个标准是越解决1越好\n",
    "from sklearn.metrics import mean_absolute_error,r2_score"
   ]
  },
  {
   "cell_type": "code",
   "execution_count": 188,
   "metadata": {
    "scrolled": true
   },
   "outputs": [
    {
     "name": "stdout",
     "output_type": "stream",
     "text": [
      "Help on function mean_absolute_error in module sklearn.metrics._regression:\n",
      "\n",
      "mean_absolute_error(y_true, y_pred, sample_weight=None, multioutput='uniform_average')\n",
      "    Mean absolute error regression loss\n",
      "    \n",
      "    Read more in the :ref:`User Guide <mean_absolute_error>`.\n",
      "    \n",
      "    Parameters\n",
      "    ----------\n",
      "    y_true : array-like of shape (n_samples,) or (n_samples, n_outputs)\n",
      "        Ground truth (correct) target values.\n",
      "    \n",
      "    y_pred : array-like of shape (n_samples,) or (n_samples, n_outputs)\n",
      "        Estimated target values.\n",
      "    \n",
      "    sample_weight : array-like of shape (n_samples,), optional\n",
      "        Sample weights.\n",
      "    \n",
      "    multioutput : string in ['raw_values', 'uniform_average']\n",
      "        or array-like of shape (n_outputs)\n",
      "        Defines aggregating of multiple output values.\n",
      "        Array-like value defines weights used to average errors.\n",
      "    \n",
      "        'raw_values' :\n",
      "            Returns a full set of errors in case of multioutput input.\n",
      "    \n",
      "        'uniform_average' :\n",
      "            Errors of all outputs are averaged with uniform weight.\n",
      "    \n",
      "    \n",
      "    Returns\n",
      "    -------\n",
      "    loss : float or ndarray of floats\n",
      "        If multioutput is 'raw_values', then mean absolute error is returned\n",
      "        for each output separately.\n",
      "        If multioutput is 'uniform_average' or an ndarray of weights, then the\n",
      "        weighted average of all output errors is returned.\n",
      "    \n",
      "        MAE output is non-negative floating point. The best value is 0.0.\n",
      "    \n",
      "    Examples\n",
      "    --------\n",
      "    >>> from sklearn.metrics import mean_absolute_error\n",
      "    >>> y_true = [3, -0.5, 2, 7]\n",
      "    >>> y_pred = [2.5, 0.0, 2, 8]\n",
      "    >>> mean_absolute_error(y_true, y_pred)\n",
      "    0.5\n",
      "    >>> y_true = [[0.5, 1], [-1, 1], [7, -6]]\n",
      "    >>> y_pred = [[0, 2], [-1, 2], [8, -5]]\n",
      "    >>> mean_absolute_error(y_true, y_pred)\n",
      "    0.75\n",
      "    >>> mean_absolute_error(y_true, y_pred, multioutput='raw_values')\n",
      "    array([0.5, 1. ])\n",
      "    >>> mean_absolute_error(y_true, y_pred, multioutput=[0.3, 0.7])\n",
      "    0.85...\n",
      "\n"
     ]
    }
   ],
   "source": [
    "help(mean_absolute_error)"
   ]
  },
  {
   "cell_type": "code",
   "execution_count": 191,
   "metadata": {
    "scrolled": false
   },
   "outputs": [
    {
     "name": "stdout",
     "output_type": "stream",
     "text": [
      "平均误差： 26.5552849073978\n",
      "R2评分： 0.37142154421056484\n"
     ]
    }
   ],
   "source": [
    "print(\"平均误差：\",mean_absolute_error(y_test,y_predict))\n",
    "print(\"R2评分：\",r2_score(y_test,y_predict))\n",
    "# 评分比较低\n",
    "#用一个决策树没有这么好，随机森林会好些"
   ]
  },
  {
   "cell_type": "code",
   "execution_count": 193,
   "metadata": {},
   "outputs": [],
   "source": [
    "# 随机森林不仅可以用决策树，还可以用于线性回归\n",
    "from sklearn.ensemble import RandomForestRegressor"
   ]
  },
  {
   "cell_type": "code",
   "execution_count": 194,
   "metadata": {},
   "outputs": [
    {
     "name": "stdout",
     "output_type": "stream",
     "text": [
      "平均误差： 20.273612782735007\n",
      "R2评分： 0.5944989534817263\n"
     ]
    }
   ],
   "source": [
    "regressor = RandomForestRegressor()\n",
    "regressor.fit(X_train,y_train)\n",
    "y_predict = regressor.predict(X_test)\n",
    "print(\"平均误差：\",mean_absolute_error(y_test,y_predict))\n",
    "print(\"R2评分：\",r2_score(y_test,y_predict))\n",
    "# 评分上升了，误差在20美元左右\n",
    "# 因为这些数据的属性，对价格的影响因素比较小，因为价格容易受房东主观因素影响"
   ]
  },
  {
   "cell_type": "markdown",
   "metadata": {},
   "source": [
    "# 评论数量预测\n",
    "\n",
    "之前绘图的时候把没有的数据用0填充的，这次我们预测10、11、12月的评论数量"
   ]
  },
  {
   "cell_type": "code",
   "execution_count": 196,
   "metadata": {},
   "outputs": [
    {
     "data": {
      "text/html": [
       "<div>\n",
       "<style scoped>\n",
       "    .dataframe tbody tr th:only-of-type {\n",
       "        vertical-align: middle;\n",
       "    }\n",
       "\n",
       "    .dataframe tbody tr th {\n",
       "        vertical-align: top;\n",
       "    }\n",
       "\n",
       "    .dataframe thead th {\n",
       "        text-align: right;\n",
       "    }\n",
       "</style>\n",
       "<table border=\"1\" class=\"dataframe\">\n",
       "  <thead>\n",
       "    <tr style=\"text-align: right;\">\n",
       "      <th>month</th>\n",
       "      <th>1</th>\n",
       "      <th>2</th>\n",
       "      <th>3</th>\n",
       "      <th>4</th>\n",
       "      <th>5</th>\n",
       "      <th>6</th>\n",
       "      <th>7</th>\n",
       "      <th>8</th>\n",
       "      <th>9</th>\n",
       "      <th>10</th>\n",
       "      <th>11</th>\n",
       "      <th>12</th>\n",
       "    </tr>\n",
       "    <tr>\n",
       "      <th>year</th>\n",
       "      <th></th>\n",
       "      <th></th>\n",
       "      <th></th>\n",
       "      <th></th>\n",
       "      <th></th>\n",
       "      <th></th>\n",
       "      <th></th>\n",
       "      <th></th>\n",
       "      <th></th>\n",
       "      <th></th>\n",
       "      <th></th>\n",
       "      <th></th>\n",
       "    </tr>\n",
       "  </thead>\n",
       "  <tbody>\n",
       "    <tr>\n",
       "      <th>2010</th>\n",
       "      <td>0.0</td>\n",
       "      <td>0.0</td>\n",
       "      <td>2.0</td>\n",
       "      <td>3.0</td>\n",
       "      <td>5.0</td>\n",
       "      <td>3.0</td>\n",
       "      <td>1.0</td>\n",
       "      <td>0.0</td>\n",
       "      <td>5.0</td>\n",
       "      <td>5.0</td>\n",
       "      <td>6.0</td>\n",
       "      <td>2.0</td>\n",
       "    </tr>\n",
       "    <tr>\n",
       "      <th>2011</th>\n",
       "      <td>2.0</td>\n",
       "      <td>5.0</td>\n",
       "      <td>6.0</td>\n",
       "      <td>4.0</td>\n",
       "      <td>24.0</td>\n",
       "      <td>35.0</td>\n",
       "      <td>51.0</td>\n",
       "      <td>32.0</td>\n",
       "      <td>48.0</td>\n",
       "      <td>74.0</td>\n",
       "      <td>50.0</td>\n",
       "      <td>44.0</td>\n",
       "    </tr>\n",
       "    <tr>\n",
       "      <th>2012</th>\n",
       "      <td>61.0</td>\n",
       "      <td>54.0</td>\n",
       "      <td>78.0</td>\n",
       "      <td>133.0</td>\n",
       "      <td>195.0</td>\n",
       "      <td>172.0</td>\n",
       "      <td>179.0</td>\n",
       "      <td>165.0</td>\n",
       "      <td>233.0</td>\n",
       "      <td>296.0</td>\n",
       "      <td>225.0</td>\n",
       "      <td>180.0</td>\n",
       "    </tr>\n",
       "    <tr>\n",
       "      <th>2013</th>\n",
       "      <td>205.0</td>\n",
       "      <td>202.0</td>\n",
       "      <td>301.0</td>\n",
       "      <td>434.0</td>\n",
       "      <td>551.0</td>\n",
       "      <td>536.0</td>\n",
       "      <td>529.0</td>\n",
       "      <td>408.0</td>\n",
       "      <td>695.0</td>\n",
       "      <td>764.0</td>\n",
       "      <td>602.0</td>\n",
       "      <td>573.0</td>\n",
       "    </tr>\n",
       "    <tr>\n",
       "      <th>2014</th>\n",
       "      <td>680.0</td>\n",
       "      <td>571.0</td>\n",
       "      <td>882.0</td>\n",
       "      <td>1088.0</td>\n",
       "      <td>1232.0</td>\n",
       "      <td>1219.0</td>\n",
       "      <td>1316.0</td>\n",
       "      <td>1173.0</td>\n",
       "      <td>1924.0</td>\n",
       "      <td>2137.0</td>\n",
       "      <td>1626.0</td>\n",
       "      <td>1703.0</td>\n",
       "    </tr>\n",
       "    <tr>\n",
       "      <th>2015</th>\n",
       "      <td>1605.0</td>\n",
       "      <td>1644.0</td>\n",
       "      <td>2272.0</td>\n",
       "      <td>2907.0</td>\n",
       "      <td>3643.0</td>\n",
       "      <td>3339.0</td>\n",
       "      <td>3317.0</td>\n",
       "      <td>2860.0</td>\n",
       "      <td>4358.0</td>\n",
       "      <td>5062.0</td>\n",
       "      <td>3813.0</td>\n",
       "      <td>3786.0</td>\n",
       "    </tr>\n",
       "    <tr>\n",
       "      <th>2016</th>\n",
       "      <td>3703.0</td>\n",
       "      <td>4123.0</td>\n",
       "      <td>4879.0</td>\n",
       "      <td>5742.0</td>\n",
       "      <td>7349.0</td>\n",
       "      <td>6392.0</td>\n",
       "      <td>6362.0</td>\n",
       "      <td>5618.0</td>\n",
       "      <td>8205.0</td>\n",
       "      <td>10142.0</td>\n",
       "      <td>7686.0</td>\n",
       "      <td>7019.0</td>\n",
       "    </tr>\n",
       "    <tr>\n",
       "      <th>2017</th>\n",
       "      <td>8022.0</td>\n",
       "      <td>8083.0</td>\n",
       "      <td>9565.0</td>\n",
       "      <td>13141.0</td>\n",
       "      <td>14522.0</td>\n",
       "      <td>14541.0</td>\n",
       "      <td>12348.0</td>\n",
       "      <td>9955.0</td>\n",
       "      <td>15809.0</td>\n",
       "      <td>16984.0</td>\n",
       "      <td>12524.0</td>\n",
       "      <td>12589.0</td>\n",
       "    </tr>\n",
       "    <tr>\n",
       "      <th>2018</th>\n",
       "      <td>13048.0</td>\n",
       "      <td>13431.0</td>\n",
       "      <td>15546.0</td>\n",
       "      <td>19811.0</td>\n",
       "      <td>21002.0</td>\n",
       "      <td>19174.0</td>\n",
       "      <td>20067.0</td>\n",
       "      <td>15133.0</td>\n",
       "      <td>21985.0</td>\n",
       "      <td>26474.0</td>\n",
       "      <td>20616.0</td>\n",
       "      <td>19767.0</td>\n",
       "    </tr>\n",
       "    <tr>\n",
       "      <th>2019</th>\n",
       "      <td>19508.0</td>\n",
       "      <td>19247.0</td>\n",
       "      <td>26387.0</td>\n",
       "      <td>27598.0</td>\n",
       "      <td>31189.0</td>\n",
       "      <td>34079.0</td>\n",
       "      <td>27547.0</td>\n",
       "      <td>22139.0</td>\n",
       "      <td>11324.0</td>\n",
       "      <td>0.0</td>\n",
       "      <td>0.0</td>\n",
       "      <td>0.0</td>\n",
       "    </tr>\n",
       "  </tbody>\n",
       "</table>\n",
       "</div>"
      ],
      "text/plain": [
       "month       1        2        3        4        5        6        7        8   \\\n",
       "year                                                                            \n",
       "2010       0.0      0.0      2.0      3.0      5.0      3.0      1.0      0.0   \n",
       "2011       2.0      5.0      6.0      4.0     24.0     35.0     51.0     32.0   \n",
       "2012      61.0     54.0     78.0    133.0    195.0    172.0    179.0    165.0   \n",
       "2013     205.0    202.0    301.0    434.0    551.0    536.0    529.0    408.0   \n",
       "2014     680.0    571.0    882.0   1088.0   1232.0   1219.0   1316.0   1173.0   \n",
       "2015    1605.0   1644.0   2272.0   2907.0   3643.0   3339.0   3317.0   2860.0   \n",
       "2016    3703.0   4123.0   4879.0   5742.0   7349.0   6392.0   6362.0   5618.0   \n",
       "2017    8022.0   8083.0   9565.0  13141.0  14522.0  14541.0  12348.0   9955.0   \n",
       "2018   13048.0  13431.0  15546.0  19811.0  21002.0  19174.0  20067.0  15133.0   \n",
       "2019   19508.0  19247.0  26387.0  27598.0  31189.0  34079.0  27547.0  22139.0   \n",
       "\n",
       "month       9        10       11       12  \n",
       "year                                       \n",
       "2010       5.0      5.0      6.0      2.0  \n",
       "2011      48.0     74.0     50.0     44.0  \n",
       "2012     233.0    296.0    225.0    180.0  \n",
       "2013     695.0    764.0    602.0    573.0  \n",
       "2014    1924.0   2137.0   1626.0   1703.0  \n",
       "2015    4358.0   5062.0   3813.0   3786.0  \n",
       "2016    8205.0  10142.0   7686.0   7019.0  \n",
       "2017   15809.0  16984.0  12524.0  12589.0  \n",
       "2018   21985.0  26474.0  20616.0  19767.0  \n",
       "2019   11324.0      0.0      0.0      0.0  "
      ]
     },
     "execution_count": 196,
     "metadata": {},
     "output_type": "execute_result"
    }
   ],
   "source": [
    "year_month_reviews\n",
    "# 这个数据集看起来好看，但是fit起来不好用"
   ]
  },
  {
   "cell_type": "code",
   "execution_count": 197,
   "metadata": {},
   "outputs": [
    {
     "data": {
      "text/html": [
       "<div>\n",
       "<style scoped>\n",
       "    .dataframe tbody tr th:only-of-type {\n",
       "        vertical-align: middle;\n",
       "    }\n",
       "\n",
       "    .dataframe tbody tr th {\n",
       "        vertical-align: top;\n",
       "    }\n",
       "\n",
       "    .dataframe thead th {\n",
       "        text-align: right;\n",
       "    }\n",
       "</style>\n",
       "<table border=\"1\" class=\"dataframe\">\n",
       "  <thead>\n",
       "    <tr style=\"text-align: right;\">\n",
       "      <th></th>\n",
       "      <th>listing_id</th>\n",
       "      <th>id</th>\n",
       "      <th>date</th>\n",
       "      <th>reviewer_id</th>\n",
       "      <th>reviewer_name</th>\n",
       "      <th>comments</th>\n",
       "      <th>year</th>\n",
       "      <th>month</th>\n",
       "    </tr>\n",
       "  </thead>\n",
       "  <tbody>\n",
       "    <tr>\n",
       "      <th>0</th>\n",
       "      <td>6369</td>\n",
       "      <td>29428</td>\n",
       "      <td>2010-03-14</td>\n",
       "      <td>84790</td>\n",
       "      <td>Nancy</td>\n",
       "      <td>Simon and Arturo have the ultimate location in...</td>\n",
       "      <td>2010</td>\n",
       "      <td>3</td>\n",
       "    </tr>\n",
       "    <tr>\n",
       "      <th>1</th>\n",
       "      <td>6369</td>\n",
       "      <td>31018</td>\n",
       "      <td>2010-03-23</td>\n",
       "      <td>84338</td>\n",
       "      <td>David</td>\n",
       "      <td>Myself and Kristy originally planned on stayin...</td>\n",
       "      <td>2010</td>\n",
       "      <td>3</td>\n",
       "    </tr>\n",
       "    <tr>\n",
       "      <th>2</th>\n",
       "      <td>6369</td>\n",
       "      <td>34694</td>\n",
       "      <td>2010-04-10</td>\n",
       "      <td>98655</td>\n",
       "      <td>Marion</td>\n",
       "      <td>We had a great time at Arturo and Simon's ! A ...</td>\n",
       "      <td>2010</td>\n",
       "      <td>4</td>\n",
       "    </tr>\n",
       "    <tr>\n",
       "      <th>3</th>\n",
       "      <td>6369</td>\n",
       "      <td>37146</td>\n",
       "      <td>2010-04-21</td>\n",
       "      <td>109871</td>\n",
       "      <td>Kurt</td>\n",
       "      <td>I very much enjoyed the stay.  \\r\\nIt's a wond...</td>\n",
       "      <td>2010</td>\n",
       "      <td>4</td>\n",
       "    </tr>\n",
       "    <tr>\n",
       "      <th>4</th>\n",
       "      <td>6369</td>\n",
       "      <td>38168</td>\n",
       "      <td>2010-04-26</td>\n",
       "      <td>98901</td>\n",
       "      <td>Dennis</td>\n",
       "      <td>Arturo and Simon are polite and friendly hosts...</td>\n",
       "      <td>2010</td>\n",
       "      <td>4</td>\n",
       "    </tr>\n",
       "  </tbody>\n",
       "</table>\n",
       "</div>"
      ],
      "text/plain": [
       "   listing_id     id       date  reviewer_id reviewer_name  \\\n",
       "0        6369  29428 2010-03-14        84790         Nancy   \n",
       "1        6369  31018 2010-03-23        84338         David   \n",
       "2        6369  34694 2010-04-10        98655        Marion   \n",
       "3        6369  37146 2010-04-21       109871          Kurt   \n",
       "4        6369  38168 2010-04-26        98901        Dennis   \n",
       "\n",
       "                                            comments  year  month  \n",
       "0  Simon and Arturo have the ultimate location in...  2010      3  \n",
       "1  Myself and Kristy originally planned on stayin...  2010      3  \n",
       "2  We had a great time at Arturo and Simon's ! A ...  2010      4  \n",
       "3  I very much enjoyed the stay.  \\r\\nIt's a wond...  2010      4  \n",
       "4  Arturo and Simon are polite and friendly hosts...  2010      4  "
      ]
     },
     "execution_count": 197,
     "metadata": {},
     "output_type": "execute_result"
    }
   ],
   "source": [
    "reviews.head()"
   ]
  },
  {
   "cell_type": "code",
   "execution_count": 201,
   "metadata": {},
   "outputs": [
    {
     "data": {
      "text/plain": [
       "year  month\n",
       "2010  3            2\n",
       "      4            3\n",
       "      5            5\n",
       "      6            3\n",
       "      7            1\n",
       "               ...  \n",
       "2019  5        31189\n",
       "      6        34079\n",
       "      7        27547\n",
       "      8        22139\n",
       "      9        11324\n",
       "Length: 114, dtype: int64"
      ]
     },
     "execution_count": 201,
     "metadata": {},
     "output_type": "execute_result"
    }
   ],
   "source": [
    "reviews.groupby(['year','month']).size()"
   ]
  },
  {
   "cell_type": "code",
   "execution_count": 204,
   "metadata": {},
   "outputs": [
    {
     "data": {
      "text/html": [
       "<div>\n",
       "<style scoped>\n",
       "    .dataframe tbody tr th:only-of-type {\n",
       "        vertical-align: middle;\n",
       "    }\n",
       "\n",
       "    .dataframe tbody tr th {\n",
       "        vertical-align: top;\n",
       "    }\n",
       "\n",
       "    .dataframe thead th {\n",
       "        text-align: right;\n",
       "    }\n",
       "</style>\n",
       "<table border=\"1\" class=\"dataframe\">\n",
       "  <thead>\n",
       "    <tr style=\"text-align: right;\">\n",
       "      <th></th>\n",
       "      <th>year</th>\n",
       "      <th>month</th>\n",
       "      <th>count</th>\n",
       "    </tr>\n",
       "  </thead>\n",
       "  <tbody>\n",
       "    <tr>\n",
       "      <th>0</th>\n",
       "      <td>2010</td>\n",
       "      <td>3</td>\n",
       "      <td>2</td>\n",
       "    </tr>\n",
       "    <tr>\n",
       "      <th>1</th>\n",
       "      <td>2010</td>\n",
       "      <td>4</td>\n",
       "      <td>3</td>\n",
       "    </tr>\n",
       "    <tr>\n",
       "      <th>2</th>\n",
       "      <td>2010</td>\n",
       "      <td>5</td>\n",
       "      <td>5</td>\n",
       "    </tr>\n",
       "    <tr>\n",
       "      <th>3</th>\n",
       "      <td>2010</td>\n",
       "      <td>6</td>\n",
       "      <td>3</td>\n",
       "    </tr>\n",
       "    <tr>\n",
       "      <th>4</th>\n",
       "      <td>2010</td>\n",
       "      <td>7</td>\n",
       "      <td>1</td>\n",
       "    </tr>\n",
       "    <tr>\n",
       "      <th>...</th>\n",
       "      <td>...</td>\n",
       "      <td>...</td>\n",
       "      <td>...</td>\n",
       "    </tr>\n",
       "    <tr>\n",
       "      <th>109</th>\n",
       "      <td>2019</td>\n",
       "      <td>5</td>\n",
       "      <td>31189</td>\n",
       "    </tr>\n",
       "    <tr>\n",
       "      <th>110</th>\n",
       "      <td>2019</td>\n",
       "      <td>6</td>\n",
       "      <td>34079</td>\n",
       "    </tr>\n",
       "    <tr>\n",
       "      <th>111</th>\n",
       "      <td>2019</td>\n",
       "      <td>7</td>\n",
       "      <td>27547</td>\n",
       "    </tr>\n",
       "    <tr>\n",
       "      <th>112</th>\n",
       "      <td>2019</td>\n",
       "      <td>8</td>\n",
       "      <td>22139</td>\n",
       "    </tr>\n",
       "    <tr>\n",
       "      <th>113</th>\n",
       "      <td>2019</td>\n",
       "      <td>9</td>\n",
       "      <td>11324</td>\n",
       "    </tr>\n",
       "  </tbody>\n",
       "</table>\n",
       "<p>114 rows × 3 columns</p>\n",
       "</div>"
      ],
      "text/plain": [
       "     year  month  count\n",
       "0    2010      3      2\n",
       "1    2010      4      3\n",
       "2    2010      5      5\n",
       "3    2010      6      3\n",
       "4    2010      7      1\n",
       "..    ...    ...    ...\n",
       "109  2019      5  31189\n",
       "110  2019      6  34079\n",
       "111  2019      7  27547\n",
       "112  2019      8  22139\n",
       "113  2019      9  11324\n",
       "\n",
       "[114 rows x 3 columns]"
      ]
     },
     "execution_count": 204,
     "metadata": {},
     "output_type": "execute_result"
    }
   ],
   "source": [
    "# 年和月也要当特征值才行\n",
    "reviews.groupby(['year','month']).size().reset_index().rename(columns={0:\"count\"})"
   ]
  },
  {
   "cell_type": "code",
   "execution_count": 207,
   "metadata": {
    "scrolled": false
   },
   "outputs": [
    {
     "name": "stdout",
     "output_type": "stream",
     "text": [
      "平均误差： 972.4124137931035\n",
      "R2评分： 0.8954031145542651\n"
     ]
    }
   ],
   "source": [
    "ym_reviews=reviews.groupby(['year','month']).size().reset_index().rename(columns={0:\"count\"})\n",
    "features = ym_reviews[['year','month']]\n",
    "targets = ym_reviews['count']\n",
    "\n",
    "X_train,X_test,y_train,y_test = train_test_split(features,targets,test_size=0.25)\n",
    "regressor=RandomForestRegressor(n_estimators=100) #建100个数\n",
    "regressor.fit(X_train,y_train)\n",
    "y_predict = regressor.predict(X_test)\n",
    "print(\"平均误差：\",mean_absolute_error(y_test,y_predict))\n",
    "print(\"R2评分：\",r2_score(y_test,y_predict))"
   ]
  },
  {
   "cell_type": "code",
   "execution_count": 214,
   "metadata": {},
   "outputs": [
    {
     "data": {
      "text/plain": [
       "array([18155.02, 18233.8 , 17931.56])"
      ]
     },
     "execution_count": 214,
     "metadata": {},
     "output_type": "execute_result"
    }
   ],
   "source": [
    "# 如果需要预测10月 11 12 是不是就不用切分直接把全部数据拿来用\n",
    "regressor=RandomForestRegressor(n_estimators=100) #建100个数\n",
    "regressor.fit(features,targets)\n",
    "y_predict = regressor.predict([\n",
    "    [2019,10],\n",
    "    [2019,11],\n",
    "    [2019,12]\n",
    "])\n",
    "y_predict"
   ]
  },
  {
   "cell_type": "markdown",
   "metadata": {},
   "source": [
    "# 预测结果可视化\n",
    "\n",
    "将刚才预测的结果放到DataFrame中"
   ]
  },
  {
   "cell_type": "code",
   "execution_count": 215,
   "metadata": {},
   "outputs": [
    {
     "data": {
      "text/html": [
       "<div>\n",
       "<style scoped>\n",
       "    .dataframe tbody tr th:only-of-type {\n",
       "        vertical-align: middle;\n",
       "    }\n",
       "\n",
       "    .dataframe tbody tr th {\n",
       "        vertical-align: top;\n",
       "    }\n",
       "\n",
       "    .dataframe thead th {\n",
       "        text-align: right;\n",
       "    }\n",
       "</style>\n",
       "<table border=\"1\" class=\"dataframe\">\n",
       "  <thead>\n",
       "    <tr style=\"text-align: right;\">\n",
       "      <th></th>\n",
       "      <th>year</th>\n",
       "      <th>month</th>\n",
       "      <th>count</th>\n",
       "    </tr>\n",
       "  </thead>\n",
       "  <tbody>\n",
       "    <tr>\n",
       "      <th>0</th>\n",
       "      <td>2010</td>\n",
       "      <td>3</td>\n",
       "      <td>2</td>\n",
       "    </tr>\n",
       "    <tr>\n",
       "      <th>1</th>\n",
       "      <td>2010</td>\n",
       "      <td>4</td>\n",
       "      <td>3</td>\n",
       "    </tr>\n",
       "    <tr>\n",
       "      <th>2</th>\n",
       "      <td>2010</td>\n",
       "      <td>5</td>\n",
       "      <td>5</td>\n",
       "    </tr>\n",
       "    <tr>\n",
       "      <th>3</th>\n",
       "      <td>2010</td>\n",
       "      <td>6</td>\n",
       "      <td>3</td>\n",
       "    </tr>\n",
       "    <tr>\n",
       "      <th>4</th>\n",
       "      <td>2010</td>\n",
       "      <td>7</td>\n",
       "      <td>1</td>\n",
       "    </tr>\n",
       "  </tbody>\n",
       "</table>\n",
       "</div>"
      ],
      "text/plain": [
       "   year  month  count\n",
       "0  2010      3      2\n",
       "1  2010      4      3\n",
       "2  2010      5      5\n",
       "3  2010      6      3\n",
       "4  2010      7      1"
      ]
     },
     "execution_count": 215,
     "metadata": {},
     "output_type": "execute_result"
    }
   ],
   "source": [
    "ym_reviews.head()"
   ]
  },
  {
   "cell_type": "code",
   "execution_count": 223,
   "metadata": {},
   "outputs": [
    {
     "data": {
      "text/html": [
       "<div>\n",
       "<style scoped>\n",
       "    .dataframe tbody tr th:only-of-type {\n",
       "        vertical-align: middle;\n",
       "    }\n",
       "\n",
       "    .dataframe tbody tr th {\n",
       "        vertical-align: top;\n",
       "    }\n",
       "\n",
       "    .dataframe thead th {\n",
       "        text-align: right;\n",
       "    }\n",
       "</style>\n",
       "<table border=\"1\" class=\"dataframe\">\n",
       "  <thead>\n",
       "    <tr style=\"text-align: right;\">\n",
       "      <th></th>\n",
       "      <th>0</th>\n",
       "      <th>1</th>\n",
       "      <th>2</th>\n",
       "    </tr>\n",
       "  </thead>\n",
       "  <tbody>\n",
       "    <tr>\n",
       "      <th>0</th>\n",
       "      <td>2019</td>\n",
       "      <td>10</td>\n",
       "      <td>18155.02</td>\n",
       "    </tr>\n",
       "    <tr>\n",
       "      <th>1</th>\n",
       "      <td>2019</td>\n",
       "      <td>10</td>\n",
       "      <td>18233.80</td>\n",
       "    </tr>\n",
       "    <tr>\n",
       "      <th>2</th>\n",
       "      <td>2019</td>\n",
       "      <td>10</td>\n",
       "      <td>17931.56</td>\n",
       "    </tr>\n",
       "  </tbody>\n",
       "</table>\n",
       "</div>"
      ],
      "text/plain": [
       "      0   1         2\n",
       "0  2019  10  18155.02\n",
       "1  2019  10  18233.80\n",
       "2  2019  10  17931.56"
      ]
     },
     "execution_count": 223,
     "metadata": {},
     "output_type": "execute_result"
    }
   ],
   "source": [
    "# 数据前面要加上年，月，\n",
    "# 简便得方式就是把结果转化为DataFrame 然后两个DataFrame堆叠\n",
    "predict_reviews = pd.DataFrame([[2019,10,x] for x in y_predict])\n",
    "predict_reviews"
   ]
  },
  {
   "cell_type": "code",
   "execution_count": 224,
   "metadata": {},
   "outputs": [
    {
     "data": {
      "text/html": [
       "<div>\n",
       "<style scoped>\n",
       "    .dataframe tbody tr th:only-of-type {\n",
       "        vertical-align: middle;\n",
       "    }\n",
       "\n",
       "    .dataframe tbody tr th {\n",
       "        vertical-align: top;\n",
       "    }\n",
       "\n",
       "    .dataframe thead th {\n",
       "        text-align: right;\n",
       "    }\n",
       "</style>\n",
       "<table border=\"1\" class=\"dataframe\">\n",
       "  <thead>\n",
       "    <tr style=\"text-align: right;\">\n",
       "      <th></th>\n",
       "      <th>year</th>\n",
       "      <th>month</th>\n",
       "      <th>count</th>\n",
       "    </tr>\n",
       "  </thead>\n",
       "  <tbody>\n",
       "    <tr>\n",
       "      <th>0</th>\n",
       "      <td>2019</td>\n",
       "      <td>10</td>\n",
       "      <td>18155.02</td>\n",
       "    </tr>\n",
       "    <tr>\n",
       "      <th>1</th>\n",
       "      <td>2019</td>\n",
       "      <td>11</td>\n",
       "      <td>18233.80</td>\n",
       "    </tr>\n",
       "    <tr>\n",
       "      <th>2</th>\n",
       "      <td>2019</td>\n",
       "      <td>12</td>\n",
       "      <td>17931.56</td>\n",
       "    </tr>\n",
       "  </tbody>\n",
       "</table>\n",
       "</div>"
      ],
      "text/plain": [
       "   year  month     count\n",
       "0  2019     10  18155.02\n",
       "1  2019     11  18233.80\n",
       "2  2019     12  17931.56"
      ]
     },
     "execution_count": 224,
     "metadata": {},
     "output_type": "execute_result"
    }
   ],
   "source": [
    "# enumerate 返回两个数据，当前的索引，当前的值\n",
    "predict_reviews = pd.DataFrame([[2019,10+index,x] for index,x in enumerate(y_predict)],columns=['year','month','count'])\n",
    "predict_reviews"
   ]
  },
  {
   "cell_type": "code",
   "execution_count": 225,
   "metadata": {},
   "outputs": [
    {
     "data": {
      "text/html": [
       "<div>\n",
       "<style scoped>\n",
       "    .dataframe tbody tr th:only-of-type {\n",
       "        vertical-align: middle;\n",
       "    }\n",
       "\n",
       "    .dataframe tbody tr th {\n",
       "        vertical-align: top;\n",
       "    }\n",
       "\n",
       "    .dataframe thead th {\n",
       "        text-align: right;\n",
       "    }\n",
       "</style>\n",
       "<table border=\"1\" class=\"dataframe\">\n",
       "  <thead>\n",
       "    <tr style=\"text-align: right;\">\n",
       "      <th></th>\n",
       "      <th>year</th>\n",
       "      <th>month</th>\n",
       "      <th>count</th>\n",
       "    </tr>\n",
       "  </thead>\n",
       "  <tbody>\n",
       "    <tr>\n",
       "      <th>0</th>\n",
       "      <td>2010</td>\n",
       "      <td>3</td>\n",
       "      <td>2.00</td>\n",
       "    </tr>\n",
       "    <tr>\n",
       "      <th>1</th>\n",
       "      <td>2010</td>\n",
       "      <td>4</td>\n",
       "      <td>3.00</td>\n",
       "    </tr>\n",
       "    <tr>\n",
       "      <th>2</th>\n",
       "      <td>2010</td>\n",
       "      <td>5</td>\n",
       "      <td>5.00</td>\n",
       "    </tr>\n",
       "    <tr>\n",
       "      <th>3</th>\n",
       "      <td>2010</td>\n",
       "      <td>6</td>\n",
       "      <td>3.00</td>\n",
       "    </tr>\n",
       "    <tr>\n",
       "      <th>4</th>\n",
       "      <td>2010</td>\n",
       "      <td>7</td>\n",
       "      <td>1.00</td>\n",
       "    </tr>\n",
       "    <tr>\n",
       "      <th>...</th>\n",
       "      <td>...</td>\n",
       "      <td>...</td>\n",
       "      <td>...</td>\n",
       "    </tr>\n",
       "    <tr>\n",
       "      <th>112</th>\n",
       "      <td>2019</td>\n",
       "      <td>8</td>\n",
       "      <td>22139.00</td>\n",
       "    </tr>\n",
       "    <tr>\n",
       "      <th>113</th>\n",
       "      <td>2019</td>\n",
       "      <td>9</td>\n",
       "      <td>11324.00</td>\n",
       "    </tr>\n",
       "    <tr>\n",
       "      <th>0</th>\n",
       "      <td>2019</td>\n",
       "      <td>10</td>\n",
       "      <td>18155.02</td>\n",
       "    </tr>\n",
       "    <tr>\n",
       "      <th>1</th>\n",
       "      <td>2019</td>\n",
       "      <td>11</td>\n",
       "      <td>18233.80</td>\n",
       "    </tr>\n",
       "    <tr>\n",
       "      <th>2</th>\n",
       "      <td>2019</td>\n",
       "      <td>12</td>\n",
       "      <td>17931.56</td>\n",
       "    </tr>\n",
       "  </tbody>\n",
       "</table>\n",
       "<p>117 rows × 3 columns</p>\n",
       "</div>"
      ],
      "text/plain": [
       "     year  month     count\n",
       "0    2010      3      2.00\n",
       "1    2010      4      3.00\n",
       "2    2010      5      5.00\n",
       "3    2010      6      3.00\n",
       "4    2010      7      1.00\n",
       "..    ...    ...       ...\n",
       "112  2019      8  22139.00\n",
       "113  2019      9  11324.00\n",
       "0    2019     10  18155.02\n",
       "1    2019     11  18233.80\n",
       "2    2019     12  17931.56\n",
       "\n",
       "[117 rows x 3 columns]"
      ]
     },
     "execution_count": 225,
     "metadata": {},
     "output_type": "execute_result"
    }
   ],
   "source": [
    "pd.concat([ym_reviews,predict_reviews])"
   ]
  },
  {
   "cell_type": "code",
   "execution_count": 228,
   "metadata": {},
   "outputs": [
    {
     "data": {
      "text/html": [
       "<div>\n",
       "<style scoped>\n",
       "    .dataframe tbody tr th:only-of-type {\n",
       "        vertical-align: middle;\n",
       "    }\n",
       "\n",
       "    .dataframe tbody tr th {\n",
       "        vertical-align: top;\n",
       "    }\n",
       "\n",
       "    .dataframe thead th {\n",
       "        text-align: right;\n",
       "    }\n",
       "</style>\n",
       "<table border=\"1\" class=\"dataframe\">\n",
       "  <thead>\n",
       "    <tr style=\"text-align: right;\">\n",
       "      <th></th>\n",
       "      <th>index</th>\n",
       "      <th>year</th>\n",
       "      <th>month</th>\n",
       "      <th>count</th>\n",
       "    </tr>\n",
       "  </thead>\n",
       "  <tbody>\n",
       "    <tr>\n",
       "      <th>0</th>\n",
       "      <td>0</td>\n",
       "      <td>2010</td>\n",
       "      <td>3</td>\n",
       "      <td>2.00</td>\n",
       "    </tr>\n",
       "    <tr>\n",
       "      <th>1</th>\n",
       "      <td>1</td>\n",
       "      <td>2010</td>\n",
       "      <td>4</td>\n",
       "      <td>3.00</td>\n",
       "    </tr>\n",
       "    <tr>\n",
       "      <th>2</th>\n",
       "      <td>2</td>\n",
       "      <td>2010</td>\n",
       "      <td>5</td>\n",
       "      <td>5.00</td>\n",
       "    </tr>\n",
       "    <tr>\n",
       "      <th>3</th>\n",
       "      <td>3</td>\n",
       "      <td>2010</td>\n",
       "      <td>6</td>\n",
       "      <td>3.00</td>\n",
       "    </tr>\n",
       "    <tr>\n",
       "      <th>4</th>\n",
       "      <td>4</td>\n",
       "      <td>2010</td>\n",
       "      <td>7</td>\n",
       "      <td>1.00</td>\n",
       "    </tr>\n",
       "    <tr>\n",
       "      <th>...</th>\n",
       "      <td>...</td>\n",
       "      <td>...</td>\n",
       "      <td>...</td>\n",
       "      <td>...</td>\n",
       "    </tr>\n",
       "    <tr>\n",
       "      <th>112</th>\n",
       "      <td>112</td>\n",
       "      <td>2019</td>\n",
       "      <td>8</td>\n",
       "      <td>22139.00</td>\n",
       "    </tr>\n",
       "    <tr>\n",
       "      <th>113</th>\n",
       "      <td>113</td>\n",
       "      <td>2019</td>\n",
       "      <td>9</td>\n",
       "      <td>11324.00</td>\n",
       "    </tr>\n",
       "    <tr>\n",
       "      <th>114</th>\n",
       "      <td>0</td>\n",
       "      <td>2019</td>\n",
       "      <td>10</td>\n",
       "      <td>18155.02</td>\n",
       "    </tr>\n",
       "    <tr>\n",
       "      <th>115</th>\n",
       "      <td>1</td>\n",
       "      <td>2019</td>\n",
       "      <td>11</td>\n",
       "      <td>18233.80</td>\n",
       "    </tr>\n",
       "    <tr>\n",
       "      <th>116</th>\n",
       "      <td>2</td>\n",
       "      <td>2019</td>\n",
       "      <td>12</td>\n",
       "      <td>17931.56</td>\n",
       "    </tr>\n",
       "  </tbody>\n",
       "</table>\n",
       "<p>117 rows × 4 columns</p>\n",
       "</div>"
      ],
      "text/plain": [
       "     index  year  month     count\n",
       "0        0  2010      3      2.00\n",
       "1        1  2010      4      3.00\n",
       "2        2  2010      5      5.00\n",
       "3        3  2010      6      3.00\n",
       "4        4  2010      7      1.00\n",
       "..     ...   ...    ...       ...\n",
       "112    112  2019      8  22139.00\n",
       "113    113  2019      9  11324.00\n",
       "114      0  2019     10  18155.02\n",
       "115      1  2019     11  18233.80\n",
       "116      2  2019     12  17931.56\n",
       "\n",
       "[117 rows x 4 columns]"
      ]
     },
     "execution_count": 228,
     "metadata": {},
     "output_type": "execute_result"
    }
   ],
   "source": [
    "# 上面索引有些问题\n",
    "pd.concat([ym_reviews,predict_reviews]).reset_index()\n",
    "# 下面又多了个索引 待会绘图的时候能改"
   ]
  },
  {
   "cell_type": "code",
   "execution_count": 232,
   "metadata": {},
   "outputs": [
    {
     "data": {
      "image/png": "[encoded data removed]",
      "text/plain": [
       "<Figure size 432x288 with 1 Axes>"
      ]
     },
     "metadata": {
      "needs_background": "light"
     },
     "output_type": "display_data"
    }
   ],
   "source": [
    "final_reviews=pd.concat([ym_reviews,predict_reviews]).reset_index()\n",
    "years= final_reviews['year'].unique()\n",
    "for year in years:\n",
    "    df = final_reviews[final_reviews['year']==year]\n",
    "    sns.lineplot(x='month',y='count',data=df)"
   ]
  },
  {
   "cell_type": "code",
   "execution_count": 233,
   "metadata": {},
   "outputs": [
    {
     "data": {
      "image/png": "[encoded data removed]",
      "text/plain": [
       "<Figure size 720x360 with 1 Axes>"
      ]
     },
     "metadata": {
      "needs_background": "light"
     },
     "output_type": "display_data"
    }
   ],
   "source": [
    "# 变得好看些\n",
    "final_reviews=pd.concat([ym_reviews,predict_reviews]).reset_index()\n",
    "years= final_reviews['year'].unique()\n",
    "fig,ax1 = plt.subplots(1,1,figsize=(10,5))\n",
    "for year in years:\n",
    "    df = final_reviews[final_reviews['year']==year]\n",
    "    sns.lineplot(x='month',y='count',data=df,ax=ax1)\n",
    "    \n",
    "ax1.legend(labels=year_month_reviews.index)\n",
    "ax1.grid()\n",
    "x=ax1.set_xticks(list(range(1,13))) #X轴没有把所有的月份打印出来"
   ]
  },
  {
   "cell_type": "code",
   "execution_count": null,
   "metadata": {},
   "outputs": [],
   "source": []
  }
 ],
 "metadata": {
  "hide_input": false,
  "kernelspec": {
   "display_name": "Python 3",
   "language": "python",
   "name": "python3"
  },
  "language_info": {
   "codemirror_mode": {
    "name": "ipython",
    "version": 3
   },
   "file_extension": ".py",
   "mimetype": "text/x-python",
   "name": "python",
   "nbconvert_exporter": "python",
   "pygments_lexer": "ipython3",
   "version": "3.7.6"
  },
  "toc": {
   "base_numbering": 1,
   "nav_menu": {},
   "number_sections": true,
   "sideBar": true,
   "skip_h1_title": false,
   "title_cell": "Table of Contents",
   "title_sidebar": "Contents",
   "toc_cell": false,
   "toc_position": {
    "height": "calc(100% - 180px)",
    "left": "10px",
    "top": "150px",
    "width": "434.818px"
   },
   "toc_section_display": true,
   "toc_window_display": true
  },
  "varInspector": {
   "cols": {
    "lenName": 16,
    "lenType": 16,
    "lenVar": 40
   },
   "kernels_config": {
    "python": {
     "delete_cmd_postfix": "",
     "delete_cmd_prefix": "del ",
     "library": "var_list.py",
     "varRefreshCmd": "print(var_dic_list())"
    },
    "r": {
     "delete_cmd_postfix": ") ",
     "delete_cmd_prefix": "rm(",
     "library": "var_list.r",
     "varRefreshCmd": "cat(var_dic_list()) "
    }
   },
   "oldHeight": 537.8,
   "position": {
    "height": "40px",
    "left": "1149.4px",
    "right": "20px",
    "top": "121px",
    "width": "350px"
   },
   "types_to_exclude": [
    "module",
    "function",
    "builtin_function_or_method",
    "instance",
    "_Feature"
   ],
   "varInspector_section_display": "none",
   "window_display": true
  }
 },
 "nbformat": 4,
 "nbformat_minor": 4
}
